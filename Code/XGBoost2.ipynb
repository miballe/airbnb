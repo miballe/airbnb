{
 "cells": [
  {
   "cell_type": "markdown",
   "metadata": {},
   "source": [
    "# XGBoost\n",
    "\n",
    "* Performs xgboost on training data. \n",
    "* Performs on a prebuilt set of parameters to quickly iterate and test for improvements. \n",
    "\n",
    "** Dataset must be in the following format:  **\n",
    "1. Test and Training data must be combined into one data frame\n",
    "2. A variable called \"dataset\" with factors \"test\" and \"train\" must denote which  dataset each observation comes from. \n",
    "3. Preferrably no NA values (replace with a character or -1 etc.) \n",
    "4. Any features which are numeric are treated as numeric, all other features treated as factors. (numeric means decisions can be made continuously)"
   ]
  },
  {
   "cell_type": "code",
   "execution_count": 1,
   "metadata": {
    "collapsed": false
   },
   "outputs": [
    {
     "name": "stderr",
     "output_type": "stream",
     "text": [
      "\n",
      "Attaching package: 'dplyr'\n",
      "\n",
      "The following object is masked from 'package:xgboost':\n",
      "\n",
      "    slice\n",
      "\n",
      "The following objects are masked from 'package:stats':\n",
      "\n",
      "    filter, lag\n",
      "\n",
      "The following objects are masked from 'package:base':\n",
      "\n",
      "    intersect, setdiff, setequal, union\n",
      "\n",
      "\n",
      "Attaching package: 'data.table'\n",
      "\n",
      "The following objects are masked from 'package:dplyr':\n",
      "\n",
      "    between, last\n",
      "\n",
      "Loading required package: lattice\n",
      "Loading required package: ggplot2\n"
     ]
    }
   ],
   "source": [
    "# Libraries\n",
    "library(xgboost)\n",
    "library(dplyr)\n",
    "library(Matrix)\n",
    "library(data.table)\n",
    "library(Ckmeans.1d.dp)\n",
    "library(e1071)\n",
    "library(caret)\n",
    "library(car)\n",
    "library(readr)\n",
    "\n",
    "# Set Seed\n",
    "set.seed(1066)\n",
    "\n",
    "NAME <- \"BASIC_1\" # Name of Run (used for save file names)\n",
    "DATAPATH <- \"../Data/users_FE.RDa\" # Path to preprocessed data\n",
    "COMPUTE_IMPORTANCE <- FALSE # Toggle computing importance or not because it is computationally expensive"
   ]
  },
  {
   "cell_type": "code",
   "execution_count": 2,
   "metadata": {
    "collapsed": false
   },
   "outputs": [
    {
     "ename": "ERROR",
     "evalue": "Error in is.data.frame(x): object 'dat_all' not found\n",
     "output_type": "error",
     "traceback": [
      "Error in is.data.frame(x): object 'dat_all' not found\n"
     ]
    },
    {
     "ename": "ERROR",
     "evalue": "Error in eval(expr, envir, enclos): object 'dat_all' not found\n",
     "output_type": "error",
     "traceback": [
      "Error in eval(expr, envir, enclos): object 'dat_all' not found\n"
     ]
    }
   ],
   "source": [
    "# Read data\n",
    "df_all <- read_rds(\"../Data/users_FE.RDa\")\n",
    "\n",
    "# Convert all factors into characters (so NAs can be replaced)\n",
    "i <- sapply(df_all, is.factor)\n",
    "df_all[i] <- lapply(df_all[i], as.character)\n",
    "# Ensure there are no NA values (makes sparse matrix method fail)\n",
    "df_all[is.na(df_all)] <- -1\n",
    "\n",
    "# Extract dataset index and output labels from data\n",
    "labels <- df_all$country_destination\n",
    "set <- df_all$dataset\n",
    "\n",
    "# Remove unwanted features if present\n",
    "features_rm <- colnames(dat_all) %in% c(\"id\", \"dataset\", \"first_browser\", \"age_cln\", \"age_cln2\", \"date_first_booking, X\")\n",
    "dat <- dat_all[, !features_rm] %>%\n",
    "    data.table(keep.rownames = F)"
   ]
  },
  {
   "cell_type": "code",
   "execution_count": 3,
   "metadata": {
    "collapsed": false
   },
   "outputs": [],
   "source": [
    "# One - hot encoding \n",
    "sparse_dat <- suppressWarnings( # Suppress warnings used to prevent warning messages about factor conversion\n",
    "    sparse.model.matrix( ~ . -1, data = df_all[,-1])\n",
    ")\n",
    "\n",
    "# Split into training and test set\n",
    "sparse_tr <- sparse_dat[set == \"train\",]\n",
    "sparse_ts <- sparse_dat[set == \"test\",]"
   ]
  },
  {
   "cell_type": "code",
   "execution_count": 4,
   "metadata": {
    "collapsed": false,
    "scrolled": true
   },
   "outputs": [
    {
     "name": "stdout",
     "output_type": "stream",
     "text": [
      "[0]\ttrain-merror:0.051159\n",
      "[1]\ttrain-merror:0.062483\n",
      "[2]\ttrain-merror:0.011586\n",
      "[3]\ttrain-merror:0.000918\n",
      "[4]\ttrain-merror:0.000000\n",
      "[5]\ttrain-merror:0.000000\n",
      "[6]\ttrain-merror:0.000000\n",
      "[7]\ttrain-merror:0.000000\n",
      "[8]\ttrain-merror:0.000000\n",
      "[9]\ttrain-merror:0.000000\n",
      "[10]\ttrain-merror:0.000000\n",
      "[11]\ttrain-merror:0.000000\n",
      "[12]\ttrain-merror:0.000000\n",
      "[13]\ttrain-merror:0.000000\n",
      "[14]\ttrain-merror:0.000000\n",
      "[15]\ttrain-merror:0.000000\n",
      "[16]\ttrain-merror:0.000000\n",
      "[17]\ttrain-merror:0.000000\n",
      "[18]\ttrain-merror:0.000000\n",
      "[19]\ttrain-merror:0.000000\n",
      "[20]\ttrain-merror:0.000000\n",
      "[21]\ttrain-merror:0.000000\n",
      "[22]\ttrain-merror:0.000000\n",
      "[23]\ttrain-merror:0.000000\n",
      "[24]\ttrain-merror:0.000000\n"
     ]
    }
   ],
   "source": [
    "# XGB requires labels to be numeric indexed at 0. \n",
    "y <- recode(labels,\"'NDF'=0; 'US'=1; 'other'=2; 'FR'=3; 'CA'=4; 'GB'=5; 'ES'=6; 'IT'=7; 'PT'=8; 'NL'=9; 'DE'=10; 'AU'=11\")\n",
    "\n",
    "# train xgboost\n",
    "model <- xgboost(data = sparse_tr, #data.matrix(X[,-1]), \n",
    "               label = y[set == \"train\"], \n",
    "               eta = 0.1,\n",
    "               max_depth = 9, \n",
    "               nround=25, \n",
    "               subsample = 0.5,\n",
    "               colsample_bytree = 0.5,\n",
    "               eval_metric = \"merror\",\n",
    "               objective = \"multi:softprob\",\n",
    "               num_class = 12,\n",
    "               nthread = 3\n",
    ")"
   ]
  },
  {
   "cell_type": "code",
   "execution_count": 6,
   "metadata": {
    "collapsed": false
   },
   "outputs": [],
   "source": [
    "# Plots performance metrics if caret was used \n",
    "if(COMPUTE_IMPORTANCE){\n",
    "# Evaluating importance of features to the model\n",
    "importance <- xgb.importance(sparse_tr@Dimnames[[2]], \n",
    "                             model = model, \n",
    "                             data = sparse_tr, \n",
    "                             label = labels[set == \"train\"]\n",
    "                            )\n",
    "xgb.plot.importance(importance_matrix = head(importance,30))\n",
    "}"
   ]
  },
  {
   "cell_type": "markdown",
   "metadata": {},
   "source": [
    "## Submission\n",
    "https://www.kaggle.com/indradenbakker/airbnb-recruiting-new-user-bookings/rscript-0-86547/discussion  \n",
    "As per the example script above this submission file currently just takes the top 5 predictions in order as its submission file."
   ]
  },
  {
   "cell_type": "code",
   "execution_count": 10,
   "metadata": {
    "collapsed": false
   },
   "outputs": [
    {
     "data": {
      "text/html": [
       "<table>\n",
       "<thead><tr><th></th><th scope=col>V1</th><th scope=col>V2</th><th scope=col>V3</th><th scope=col>V4</th><th scope=col>V5</th><th scope=col>id</th></tr></thead>\n",
       "<tbody>\n",
       "\t<tr><th scope=row>V1</th><td>NDF</td><td>US</td><td>other</td><td>FR</td><td>DE</td><td>5uwns89zht</td></tr>\n",
       "\t<tr><th scope=row>V2</th><td>NDF</td><td>US</td><td>other</td><td>FR</td><td>DE</td><td>jtl0dijy2j</td></tr>\n",
       "\t<tr><th scope=row>V3</th><td>NDF</td><td>US</td><td>other</td><td>FR</td><td>DE</td><td>xx0ulgorjt</td></tr>\n",
       "\t<tr><th scope=row>V4</th><td>NDF</td><td>US</td><td>other</td><td>FR</td><td>DE</td><td>6c6puo6ix0</td></tr>\n",
       "\t<tr><th scope=row>V5</th><td>NDF</td><td>US</td><td>other</td><td>FR</td><td>DE</td><td>czqhjk3yfe</td></tr>\n",
       "\t<tr><th scope=row>V6</th><td>NDF</td><td>US</td><td>other</td><td>FR</td><td>DE</td><td>szx28ujmhf</td></tr>\n",
       "\t<tr><th scope=row>V7</th><td>NDF</td><td>US</td><td>other</td><td>FR</td><td>DE</td><td>guenkfjcbq</td></tr>\n",
       "\t<tr><th scope=row>V8</th><td>NDF</td><td>US</td><td>other</td><td>FR</td><td>DE</td><td>tkpq0mlugk</td></tr>\n",
       "\t<tr><th scope=row>V9</th><td>NDF</td><td>US</td><td>other</td><td>FR</td><td>DE</td><td>3xtgd5p9dn</td></tr>\n",
       "\t<tr><th scope=row>V10</th><td>NDF</td><td>US</td><td>other</td><td>FR</td><td>DE</td><td>md9aj22l5a</td></tr>\n",
       "\t<tr><th scope=row>V11</th><td>NDF</td><td>US</td><td>other</td><td>FR</td><td>DE</td><td>gg3eswjxdf</td></tr>\n",
       "\t<tr><th scope=row>V12</th><td>NDF</td><td>US</td><td>other</td><td>FR</td><td>DE</td><td>fyomoivygn</td></tr>\n",
       "\t<tr><th scope=row>V13</th><td>NDF</td><td>US</td><td>other</td><td>DE</td><td>FR</td><td>iq4kkd5oan</td></tr>\n",
       "\t<tr><th scope=row>V14</th><td>NDF</td><td>US</td><td>other</td><td>FR</td><td>DE</td><td>6k1xls6x5j</td></tr>\n",
       "\t<tr><th scope=row>V15</th><td>NDF</td><td>US</td><td>other</td><td>FR</td><td>DE</td><td>jodmb2ok1f</td></tr>\n",
       "\t<tr><th scope=row>V16</th><td>NDF</td><td>US</td><td>other</td><td>FR</td><td>GB</td><td>eq6fy0m4vc</td></tr>\n",
       "\t<tr><th scope=row>V17</th><td>NDF</td><td>US</td><td>other</td><td>FR</td><td>DE</td><td>yq4i7nfh6l</td></tr>\n",
       "\t<tr><th scope=row>V18</th><td>US</td><td>NDF</td><td>other</td><td>FR</td><td>DE</td><td>q5pibqdous</td></tr>\n",
       "\t<tr><th scope=row>V19</th><td>NDF</td><td>US</td><td>other</td><td>FR</td><td>DE</td><td>i0sc6d3j8s</td></tr>\n",
       "\t<tr><th scope=row>V20</th><td>NDF</td><td>US</td><td>other</td><td>DE</td><td>FR</td><td>br5mcrsqzn</td></tr>\n",
       "</tbody>\n",
       "</table>\n"
      ],
      "text/latex": [
       "\\begin{tabular}{r|llllll}\n",
       "  & V1 & V2 & V3 & V4 & V5 & id\\\\\n",
       "\\hline\n",
       "\tV1 & NDF & US & other & FR & DE & 5uwns89zht\\\\\n",
       "\tV2 & NDF & US & other & FR & DE & jtl0dijy2j\\\\\n",
       "\tV3 & NDF & US & other & FR & DE & xx0ulgorjt\\\\\n",
       "\tV4 & NDF & US & other & FR & DE & 6c6puo6ix0\\\\\n",
       "\tV5 & NDF & US & other & FR & DE & czqhjk3yfe\\\\\n",
       "\tV6 & NDF & US & other & FR & DE & szx28ujmhf\\\\\n",
       "\tV7 & NDF & US & other & FR & DE & guenkfjcbq\\\\\n",
       "\tV8 & NDF & US & other & FR & DE & tkpq0mlugk\\\\\n",
       "\tV9 & NDF & US & other & FR & DE & 3xtgd5p9dn\\\\\n",
       "\tV10 & NDF & US & other & FR & DE & md9aj22l5a\\\\\n",
       "\tV11 & NDF & US & other & FR & DE & gg3eswjxdf\\\\\n",
       "\tV12 & NDF & US & other & FR & DE & fyomoivygn\\\\\n",
       "\tV13 & NDF & US & other & DE & FR & iq4kkd5oan\\\\\n",
       "\tV14 & NDF & US & other & FR & DE & 6k1xls6x5j\\\\\n",
       "\tV15 & NDF & US & other & FR & DE & jodmb2ok1f\\\\\n",
       "\tV16 & NDF & US & other & FR & GB & eq6fy0m4vc\\\\\n",
       "\tV17 & NDF & US & other & FR & DE & yq4i7nfh6l\\\\\n",
       "\tV18 & US & NDF & other & FR & DE & q5pibqdous\\\\\n",
       "\tV19 & NDF & US & other & FR & DE & i0sc6d3j8s\\\\\n",
       "\tV20 & NDF & US & other & DE & FR & br5mcrsqzn\\\\\n",
       "\\end{tabular}\n"
      ],
      "text/plain": [
       "     V1  V2    V3 V4 V5         id\n",
       "V1  NDF  US other FR DE 5uwns89zht\n",
       "V2  NDF  US other FR DE jtl0dijy2j\n",
       "V3  NDF  US other FR DE xx0ulgorjt\n",
       "V4  NDF  US other FR DE 6c6puo6ix0\n",
       "V5  NDF  US other FR DE czqhjk3yfe\n",
       "V6  NDF  US other FR DE szx28ujmhf\n",
       "V7  NDF  US other FR DE guenkfjcbq\n",
       "V8  NDF  US other FR DE tkpq0mlugk\n",
       "V9  NDF  US other FR DE 3xtgd5p9dn\n",
       "V10 NDF  US other FR DE md9aj22l5a\n",
       "V11 NDF  US other FR DE gg3eswjxdf\n",
       "V12 NDF  US other FR DE fyomoivygn\n",
       "V13 NDF  US other DE FR iq4kkd5oan\n",
       "V14 NDF  US other FR DE 6k1xls6x5j\n",
       "V15 NDF  US other FR DE jodmb2ok1f\n",
       "V16 NDF  US other FR GB eq6fy0m4vc\n",
       "V17 NDF  US other FR DE yq4i7nfh6l\n",
       "V18  US NDF other FR DE q5pibqdous\n",
       "V19 NDF  US other FR DE i0sc6d3j8s\n",
       "V20 NDF  US other DE FR br5mcrsqzn"
      ]
     },
     "execution_count": 10,
     "metadata": {},
     "output_type": "execute_result"
    },
    {
     "data": {
      "text/html": [
       "<table>\n",
       "<thead><tr><th></th><th scope=col>id</th><th scope=col>country</th></tr></thead>\n",
       "<tbody>\n",
       "\t<tr><th scope=row>1</th><td>5uwns89zht</td><td>NDF</td></tr>\n",
       "\t<tr><th scope=row>2</th><td>5uwns89zht</td><td>US</td></tr>\n",
       "\t<tr><th scope=row>3</th><td>5uwns89zht</td><td>other</td></tr>\n",
       "\t<tr><th scope=row>4</th><td>5uwns89zht</td><td>FR</td></tr>\n",
       "\t<tr><th scope=row>5</th><td>5uwns89zht</td><td>DE</td></tr>\n",
       "\t<tr><th scope=row>6</th><td>jtl0dijy2j</td><td>NDF</td></tr>\n",
       "\t<tr><th scope=row>7</th><td>jtl0dijy2j</td><td>US</td></tr>\n",
       "\t<tr><th scope=row>8</th><td>jtl0dijy2j</td><td>other</td></tr>\n",
       "\t<tr><th scope=row>9</th><td>jtl0dijy2j</td><td>FR</td></tr>\n",
       "\t<tr><th scope=row>10</th><td>jtl0dijy2j</td><td>DE</td></tr>\n",
       "\t<tr><th scope=row>11</th><td>xx0ulgorjt</td><td>NDF</td></tr>\n",
       "\t<tr><th scope=row>12</th><td>xx0ulgorjt</td><td>US</td></tr>\n",
       "\t<tr><th scope=row>13</th><td>xx0ulgorjt</td><td>other</td></tr>\n",
       "\t<tr><th scope=row>14</th><td>xx0ulgorjt</td><td>FR</td></tr>\n",
       "\t<tr><th scope=row>15</th><td>xx0ulgorjt</td><td>DE</td></tr>\n",
       "\t<tr><th scope=row>16</th><td>6c6puo6ix0</td><td>NDF</td></tr>\n",
       "\t<tr><th scope=row>17</th><td>6c6puo6ix0</td><td>US</td></tr>\n",
       "\t<tr><th scope=row>18</th><td>6c6puo6ix0</td><td>other</td></tr>\n",
       "\t<tr><th scope=row>19</th><td>6c6puo6ix0</td><td>FR</td></tr>\n",
       "\t<tr><th scope=row>20</th><td>6c6puo6ix0</td><td>DE</td></tr>\n",
       "</tbody>\n",
       "</table>\n"
      ],
      "text/latex": [
       "\\begin{tabular}{r|ll}\n",
       "  & id & country\\\\\n",
       "\\hline\n",
       "\t1 & 5uwns89zht & NDF\\\\\n",
       "\t2 & 5uwns89zht & US\\\\\n",
       "\t3 & 5uwns89zht & other\\\\\n",
       "\t4 & 5uwns89zht & FR\\\\\n",
       "\t5 & 5uwns89zht & DE\\\\\n",
       "\t6 & jtl0dijy2j & NDF\\\\\n",
       "\t7 & jtl0dijy2j & US\\\\\n",
       "\t8 & jtl0dijy2j & other\\\\\n",
       "\t9 & jtl0dijy2j & FR\\\\\n",
       "\t10 & jtl0dijy2j & DE\\\\\n",
       "\t11 & xx0ulgorjt & NDF\\\\\n",
       "\t12 & xx0ulgorjt & US\\\\\n",
       "\t13 & xx0ulgorjt & other\\\\\n",
       "\t14 & xx0ulgorjt & FR\\\\\n",
       "\t15 & xx0ulgorjt & DE\\\\\n",
       "\t16 & 6c6puo6ix0 & NDF\\\\\n",
       "\t17 & 6c6puo6ix0 & US\\\\\n",
       "\t18 & 6c6puo6ix0 & other\\\\\n",
       "\t19 & 6c6puo6ix0 & FR\\\\\n",
       "\t20 & 6c6puo6ix0 & DE\\\\\n",
       "\\end{tabular}\n"
      ],
      "text/plain": [
       "           id country\n",
       "1  5uwns89zht     NDF\n",
       "2  5uwns89zht      US\n",
       "3  5uwns89zht   other\n",
       "4  5uwns89zht      FR\n",
       "5  5uwns89zht      DE\n",
       "6  jtl0dijy2j     NDF\n",
       "7  jtl0dijy2j      US\n",
       "8  jtl0dijy2j   other\n",
       "9  jtl0dijy2j      FR\n",
       "10 jtl0dijy2j      DE\n",
       "11 xx0ulgorjt     NDF\n",
       "12 xx0ulgorjt      US\n",
       "13 xx0ulgorjt   other\n",
       "14 xx0ulgorjt      FR\n",
       "15 xx0ulgorjt      DE\n",
       "16 6c6puo6ix0     NDF\n",
       "17 6c6puo6ix0      US\n",
       "18 6c6puo6ix0   other\n",
       "19 6c6puo6ix0      FR\n",
       "20 6c6puo6ix0      DE"
      ]
     },
     "execution_count": 10,
     "metadata": {},
     "output_type": "execute_result"
    }
   ],
   "source": [
    "# Generate predictions on competition test set. \n",
    "# compare prediction to results\n",
    "source(\"Generate_submission.R\")\n",
    "final <- submission(model, sparse_ts, df_all[set == \"test\", \"id\"], NAME)\n",
    "\n",
    "head(final$df,20)\n",
    "head(final$file,20)"
   ]
  },
  {
   "cell_type": "code",
   "execution_count": 11,
   "metadata": {
    "collapsed": false
   },
   "outputs": [
    {
     "name": "stdout",
     "output_type": "stream",
     "text": [
      "List of 2\n",
      " $ handle:Class 'xgb.Booster.handle' <externalptr> \n",
      " $ raw   : raw [1:580892] 00 00 00 3f ...\n",
      " - attr(*, \"class\")= chr \"xgb.Booster\"\n"
     ]
    }
   ],
   "source": [
    "str(model)"
   ]
  }
 ],
 "metadata": {
  "kernelspec": {
   "display_name": "R",
   "language": "R",
   "name": "ir"
  },
  "language_info": {
   "codemirror_mode": "r",
   "file_extension": ".r",
   "mimetype": "text/x-r-source",
   "name": "R",
   "pygments_lexer": "r",
   "version": "3.2.4"
  }
 },
 "nbformat": 4,
 "nbformat_minor": 0
}
