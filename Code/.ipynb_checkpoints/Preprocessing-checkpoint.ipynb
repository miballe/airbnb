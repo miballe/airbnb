{
 "cells": [
  {
   "cell_type": "markdown",
   "metadata": {},
   "source": [
    "# Preprocessing\n",
    "\n",
    "In this script we preprocess the training user data and split into internal training and testing sets so it is in a form which is processable by machine learning models."
   ]
  },
  {
   "cell_type": "code",
   "execution_count": 6,
   "metadata": {
    "collapsed": false
   },
   "outputs": [],
   "source": [
    "# Libraries\n",
    "library(ggplot2)\n",
    "library(caret)\n",
    "library(dplyr)\n",
    "library(readr)\n",
    "\n",
    "# Set seed\n",
    "set.seed(1066)"
   ]
  },
  {
   "cell_type": "code",
   "execution_count": 7,
   "metadata": {
    "collapsed": false
   },
   "outputs": [
    {
     "name": "stdout",
     "output_type": "stream",
     "text": [
      "'data.frame':\t213451 obs. of  16 variables:\n",
      " $ id                     : Factor w/ 213451 levels \"00023iyk9l\",\"0005ytdols\",..: 100523 48039 26485 68504 48956 147281 129610 2144 59779 40826 ...\n",
      " $ date_account_created   : Factor w/ 1634 levels \"2010-01-01\",\"2010-01-02\",..: 171 502 263 696 249 1 2 3 4 4 ...\n",
      " $ timestamp_first_active : num  2.01e+13 2.01e+13 2.01e+13 2.01e+13 2.01e+13 ...\n",
      " $ date_first_booking     : Factor w/ 1977 levels \"\",\"2010-01-02\",..: 1 1 194 960 35 2 4 10 190 3 ...\n",
      " $ gender                 : Factor w/ 4 levels \"-unknown-\",\"FEMALE\",..: 1 3 2 2 1 1 2 2 2 1 ...\n",
      " $ age                    : num  NA 38 56 42 41 NA 46 47 50 46 ...\n",
      " $ signup_method          : Factor w/ 3 levels \"basic\",\"facebook\",..: 2 2 1 2 1 1 1 1 1 1 ...\n",
      " $ signup_flow            : int  0 0 3 0 0 0 0 0 0 0 ...\n",
      " $ language               : Factor w/ 25 levels \"ca\",\"cs\",\"da\",..: 6 6 6 6 6 6 6 6 6 6 ...\n",
      " $ affiliate_channel      : Factor w/ 8 levels \"api\",\"content\",..: 3 8 3 3 3 4 4 3 4 4 ...\n",
      " $ affiliate_provider     : Factor w/ 18 levels \"baidu\",\"bing\",..: 5 9 5 5 5 13 3 5 3 3 ...\n",
      " $ first_affiliate_tracked: Factor w/ 8 levels \"\",\"linked\",\"local ops\",..: 8 8 8 8 8 5 8 5 8 5 ...\n",
      " $ signup_app             : Factor w/ 4 levels \"Android\",\"iOS\",..: 4 4 4 4 4 4 4 4 4 4 ...\n",
      " $ first_device_type      : Factor w/ 9 levels \"Android Phone\",..: 6 6 9 6 6 6 6 6 6 6 ...\n",
      " $ first_browser          : Factor w/ 52 levels \"-unknown-\",\"Android Browser\",..: 9 9 24 18 9 9 42 42 42 18 ...\n",
      " $ country_destination    : Factor w/ 12 levels \"AU\",\"CA\",\"DE\",..: 8 8 12 10 12 12 12 12 12 12 ...\n"
     ]
    }
   ],
   "source": [
    "# Read in the data\n",
    "# Assumes the data files from the competition are in \"../Data/\"\n",
    "train_users_2 <- read.csv(\"../Data/train_users_2.csv\")\n",
    "test_users <- read.csv(\"../Data/test_users.csv\")\n",
    "sessions <- read_csv(\"../Data/sessions.csv\")\n",
    "str(train_users_2)"
   ]
  },
  {
   "cell_type": "markdown",
   "metadata": {},
   "source": [
    "## Test / Train merge / index\n",
    "Split internal training data into a training and testing set so we don't need to evaluate with kaggle leaderboards every time. \n",
    "\n",
    "Merge the 3 sets into one so feature engineering is performed the same on each. "
   ]
  },
  {
   "cell_type": "code",
   "execution_count": 8,
   "metadata": {
    "collapsed": false
   },
   "outputs": [
    {
     "data": {
      "text/plain": [
       "\n",
       "test_external test_internal         train \n",
       "        62096         53358        160093 "
      ]
     },
     "execution_count": 8,
     "metadata": {},
     "output_type": "execute_result"
    }
   ],
   "source": [
    "# Index internal training and testing sets\n",
    "tr_index <- createDataPartition(y = train_users_2$country_destination, p = .75, list = FALSE)\n",
    "train_users_2$dataset <- \"test_internal\"\n",
    "train_users_2$dataset[tr_index] <- \"train\"\n",
    "\n",
    "# Merge training and testing set\n",
    "test_users$country_destination <- \"NDF\"\n",
    "test_users$dataset <- \"test_external\"\n",
    "dat <- rbind(train_users_2, test_users)\n",
    "\n",
    "dat$dataset <- as.factor(dat$dataset)\n",
    "table(dat$dataset)"
   ]
  },
  {
   "cell_type": "markdown",
   "metadata": {},
   "source": [
    "## Feature Engineering"
   ]
  },
  {
   "cell_type": "code",
   "execution_count": 9,
   "metadata": {
    "collapsed": false
   },
   "outputs": [
    {
     "data": {
      "text/html": [
       "135483"
      ],
      "text/latex": [
       "135483"
      ],
      "text/markdown": [
       "135483"
      ],
      "text/plain": [
       "[1] 135483"
      ]
     },
     "execution_count": 9,
     "metadata": {},
     "output_type": "execute_result"
    }
   ],
   "source": [
    "# Vector of labels the training data for which we have session data (~1/3)\n",
    "sessions_label <- dat$id %in% sessions$user_id\n",
    "sum(sessions_label)\n",
    "\n",
    "# Remove the date_first_booked variable as it is 100% missing on test data (for obvious reasons)\n",
    "dat <- select(dat, -date_first_booking)"
   ]
  },
  {
   "cell_type": "markdown",
   "metadata": {},
   "source": [
    "## Save Output"
   ]
  },
  {
   "cell_type": "code",
   "execution_count": 10,
   "metadata": {
    "collapsed": true
   },
   "outputs": [],
   "source": [
    "saveRDS(dat, \"../Data/users.RDS\")\n",
    "write_csv(dat, \"../Data/users.csv\")"
   ]
  }
 ],
 "metadata": {
  "kernelspec": {
   "display_name": "R",
   "language": "R",
   "name": "ir"
  },
  "language_info": {
   "codemirror_mode": "r",
   "file_extension": ".r",
   "mimetype": "text/x-r-source",
   "name": "R",
   "pygments_lexer": "r",
   "version": "3.2.4"
  }
 },
 "nbformat": 4,
 "nbformat_minor": 0
}
