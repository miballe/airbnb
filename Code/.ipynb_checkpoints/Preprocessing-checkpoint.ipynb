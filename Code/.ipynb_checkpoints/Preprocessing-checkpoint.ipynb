{
 "cells": [
  {
   "cell_type": "markdown",
   "metadata": {},
   "source": [
    "# Preprocessing\n",
    "\n",
    "In this script we preprocess the training user data and split into internal training and testing sets so it is in a form which is processable by machine learning models."
   ]
  },
  {
   "cell_type": "code",
   "execution_count": 1,
   "metadata": {
    "collapsed": false
   },
   "outputs": [
    {
     "name": "stderr",
     "output_type": "stream",
     "text": [
      "Warning message:\n",
      ": package 'ggplot2' was built under R version 3.2.3Warning message:\n",
      ": package 'caret' was built under R version 3.2.4Loading required package: lattice\n"
     ]
    },
    {
     "ename": "ERROR",
     "evalue": "Error: package or namespace load failed for 'caret'\n",
     "output_type": "error",
     "traceback": [
      "Error: package or namespace load failed for 'caret'\n"
     ]
    }
   ],
   "source": [
    "# Libraries\n",
    "library(ggplot2)\n",
    "library(caret)"
   ]
  },
  {
   "cell_type": "code",
   "execution_count": 17,
   "metadata": {
    "collapsed": false
   },
   "outputs": [
    {
     "name": "stdout",
     "output_type": "stream",
     "text": [
      "'data.frame':\t213451 obs. of  16 variables:\n",
      " $ id                     : Factor w/ 213451 levels \"00023iyk9l\",\"0005ytdols\",..: 100523 48039 26485 68504 48956 147281 129610 2144 59779 40826 ...\n",
      " $ date_account_created   : Factor w/ 1634 levels \"2010-01-01\",\"2010-01-02\",..: 171 502 263 696 249 1 2 3 4 4 ...\n",
      " $ timestamp_first_active : num  2.01e+13 2.01e+13 2.01e+13 2.01e+13 2.01e+13 ...\n",
      " $ date_first_booking     : Factor w/ 1977 levels \"\",\"2010-01-02\",..: 1 1 194 960 35 2 4 10 190 3 ...\n",
      " $ gender                 : Factor w/ 4 levels \"-unknown-\",\"FEMALE\",..: 1 3 2 2 1 1 2 2 2 1 ...\n",
      " $ age                    : num  NA 38 56 42 41 NA 46 47 50 46 ...\n",
      " $ signup_method          : Factor w/ 3 levels \"basic\",\"facebook\",..: 2 2 1 2 1 1 1 1 1 1 ...\n",
      " $ signup_flow            : int  0 0 3 0 0 0 0 0 0 0 ...\n",
      " $ language               : Factor w/ 25 levels \"ca\",\"cs\",\"da\",..: 6 6 6 6 6 6 6 6 6 6 ...\n",
      " $ affiliate_channel      : Factor w/ 8 levels \"api\",\"content\",..: 3 8 3 3 3 4 4 3 4 4 ...\n",
      " $ affiliate_provider     : Factor w/ 18 levels \"baidu\",\"bing\",..: 5 9 5 5 5 13 3 5 3 3 ...\n",
      " $ first_affiliate_tracked: Factor w/ 8 levels \"\",\"linked\",\"local ops\",..: 8 8 8 8 8 5 8 5 8 5 ...\n",
      " $ signup_app             : Factor w/ 4 levels \"Android\",\"iOS\",..: 4 4 4 4 4 4 4 4 4 4 ...\n",
      " $ first_device_type      : Factor w/ 9 levels \"Android Phone\",..: 6 6 9 6 6 6 6 6 6 6 ...\n",
      " $ first_browser          : Factor w/ 52 levels \"-unknown-\",\"Android Browser\",..: 9 9 24 18 9 9 42 42 42 18 ...\n",
      " $ country_destination    : Factor w/ 12 levels \"AU\",\"CA\",\"DE\",..: 8 8 12 10 12 12 12 12 12 12 ...\n"
     ]
    }
   ],
   "source": [
    "# Read in the data\n",
    "# Assumes the data files from the competition are in \"../Data/\"\n",
    "path <- \"../Data/\"\n",
    "train_users_2 <- read.csv(paste0(path,\"train_users_2.csv\"))\n",
    "str(train_users_2)"
   ]
  },
  {
   "cell_type": "markdown",
   "metadata": {},
   "source": [
    "# Feature Engineering"
   ]
  },
  {
   "cell_type": "code",
   "execution_count": null,
   "metadata": {
    "collapsed": false
   },
   "outputs": [],
   "source": [
    "# Vector of labels the training data for which we have session data (~1/3)\n",
    "sessions <- train_users_2$id %in% sessions$user_id"
   ]
  },
  {
   "cell_type": "code",
   "execution_count": null,
   "metadata": {
    "collapsed": true
   },
   "outputs": [],
   "source": []
  },
  {
   "cell_type": "markdown",
   "metadata": {},
   "source": [
    "# Test / Train Split"
   ]
  },
  {
   "cell_type": "code",
   "execution_count": 20,
   "metadata": {
    "collapsed": false
   },
   "outputs": [
    {
     "ename": "ERROR",
     "evalue": "Error in parse(text = x, srcfile = src): <text>:5:1: unexpected '>'\n4:                                list = FALSE)\n5: >\n   ^\n",
     "output_type": "error",
     "traceback": [
      "Error in parse(text = x, srcfile = src): <text>:5:1: unexpected '>'\n4:                                list = FALSE)\n5: >\n   ^\n"
     ]
    }
   ],
   "source": [
    "set.seed(1066)\n",
    "inTrain <- createDataPartition(y = train_users_2$country_destination,\n",
    "                               p = .75,\n",
    "                               list = FALSE)\n",
    "## The format of the results\n",
    "## The output is a set of integers for the rows of Sonar\n",
    "## that belong in the training set.\n",
    "str(inTrain)\n"
   ]
  },
  {
   "cell_type": "code",
   "execution_count": 19,
   "metadata": {
    "collapsed": false
   },
   "outputs": [
    {
     "data": {
      "text/html": [
       "No documentation for 'mlbench' in specified packages and libraries:\n",
       "you could try '??mlbench'"
      ],
      "text/latex": [
       "No documentation for 'mlbench' in specified packages and libraries:\n",
       "you could try '??mlbench'"
      ],
      "text/plain": [
       "No documentation for 'mlbench' in specified packages and libraries:\n",
       "you could try '??mlbench'"
      ]
     },
     "execution_count": 19,
     "metadata": {},
     "output_type": "execute_result"
    }
   ],
   "source": []
  },
  {
   "cell_type": "markdown",
   "metadata": {},
   "source": [
    "# Save Output"
   ]
  }
 ],
 "metadata": {
  "kernelspec": {
   "display_name": "R",
   "language": "R",
   "name": "ir"
  },
  "language_info": {
   "codemirror_mode": "r",
   "file_extension": ".r",
   "mimetype": "text/x-r-source",
   "name": "R",
   "pygments_lexer": "r",
   "version": "3.2.2"
  }
 },
 "nbformat": 4,
 "nbformat_minor": 0
}
