{
 "cells": [
  {
   "cell_type": "markdown",
   "metadata": {},
   "source": [
    "# XGBoost\n",
    "\n",
    "* Performs xgboost on training data. \n",
    "* Performs on a prebuilt set of parameters to quickly iterate and test for improvements. \n",
    "\n",
    "** Dataset must be in the following format:  **\n",
    "1. Test and Training data must be combined into one data frame\n",
    "2. A variable called \"dataset\" with factors \"test\" and \"train\" must denote which  dataset each observation comes from. \n",
    "3. Preferrably no NA values (replace with a character or -1 etc.) \n",
    "4. Any features which are numeric are treated as numeric, all other features treated as factors. (numeric means decisions can be made continuously)"
   ]
  },
  {
   "cell_type": "code",
   "execution_count": null,
   "metadata": {
    "collapsed": false
   },
   "outputs": [],
   "source": [
    "# Libraries\n",
    "library(xgboost)\n",
    "library(dplyr)\n",
    "library(Matrix)\n",
    "library(data.table)\n",
    "library(Ckmeans.1d.dp)\n",
    "library(e1071)\n",
    "library(caret)\n",
    "library(car)\n",
    "library(readr)\n",
    "\n",
    "# Set Seed\n",
    "set.seed(1066)\n",
    "\n",
    "NAME <- \"BASIC_1\" # Name of Run (used for save file names)\n",
    "DATAPATH <- \"../Data/users_FE.RDa\" # Path to preprocessed data\n",
    "COMPUTE_IMPORTANCE <- FALSE # Toggle computing importance or not because it is computationally expensive"
   ]
  },
  {
   "cell_type": "code",
   "execution_count": null,
   "metadata": {
    "collapsed": false
   },
   "outputs": [],
   "source": [
    "# Read data\n",
    "df_all <- read_rds(\"../Data/users_FE.RDa\")\n",
    "\n",
    "# Convert all factors into characters (so NAs can be replaced)\n",
    "i <- sapply(df_all, is.factor)\n",
    "df_all[i] <- lapply(df_all[i], as.character)\n",
    "# Ensure there are no NA values (makes sparse matrix method fail)\n",
    "df_all[is.na(df_all)] <- -1\n",
    "\n",
    "# Extract dataset index and output labels from data\n",
    "labels <- df_all$country_destination\n",
    "set <- df_all$dataset\n",
    "\n",
    "# Remove unwanted features if present\n",
    "features_rm <- colnames(dat_all) %in% c(\"id\", \"dataset\", \"first_browser\", \"age_cln\", \"age_cln2\", \"date_first_booking, X\")\n",
    "dat <- dat_all[, !features_rm] %>%\n",
    "    data.table(keep.rownames = F)"
   ]
  },
  {
   "cell_type": "code",
   "execution_count": null,
   "metadata": {
    "collapsed": false
   },
   "outputs": [],
   "source": [
    "# One - hot encoding \n",
    "sparse_dat <- suppressWarnings( # Suppress warnings used to prevent warning messages about factor conversion\n",
    "    sparse.model.matrix( ~ . -1, data = df_all[,-1])\n",
    ")\n",
    "\n",
    "# Split into training and test set\n",
    "sparse_tr <- sparse_dat[set == \"train\",]\n",
    "sparse_ts <- sparse_dat[set == \"test\",]"
   ]
  },
  {
   "cell_type": "code",
   "execution_count": null,
   "metadata": {
    "collapsed": false,
    "scrolled": true
   },
   "outputs": [],
   "source": [
    "# XGB requires labels to be numeric indexed at 0. \n",
    "y <- recode(labels,\"'NDF'=0; 'US'=1; 'other'=2; 'FR'=3; 'CA'=4; 'GB'=5; 'ES'=6; 'IT'=7; 'PT'=8; 'NL'=9; 'DE'=10; 'AU'=11\")\n",
    "\n",
    "# train xgboost\n",
    "model <- xgboost(data = sparse_tr, #data.matrix(X[,-1]), \n",
    "               label = y[set == \"train\"], \n",
    "               eta = 0.1,\n",
    "               max_depth = 9, \n",
    "               nround=25, \n",
    "               subsample = 0.5,\n",
    "               colsample_bytree = 0.5,\n",
    "               eval_metric = \"merror\",\n",
    "               objective = \"multi:softprob\",\n",
    "               num_class = 12,\n",
    "               nthread = 3\n",
    ")"
   ]
  },
  {
   "cell_type": "code",
   "execution_count": null,
   "metadata": {
    "collapsed": false
   },
   "outputs": [],
   "source": [
    "str(sparse_tr)"
   ]
  },
  {
   "cell_type": "code",
   "execution_count": null,
   "metadata": {
    "collapsed": false
   },
   "outputs": [],
   "source": [
    "# Plots performance metrics if caret was used \n",
    "if(COMPUTE_IMPORTANCE){\n",
    "# Evaluating importance of features to the model\n",
    "importance <- xgb.importance(sparse_tr@Dimnames[[2]], \n",
    "                             model = model, \n",
    "                             data = sparse_tr, \n",
    "                             label = labels[set == \"train\"]\n",
    "                            )\n",
    "xgb.plot.importance(importance_matrix = head(importance,30))\n",
    "}"
   ]
  },
  {
   "cell_type": "markdown",
   "metadata": {},
   "source": [
    "## Submission\n",
    "https://www.kaggle.com/indradenbakker/airbnb-recruiting-new-user-bookings/rscript-0-86547/discussion  \n",
    "As per the example script above this submission file currently just takes the top 5 predictions in order as its submission file."
   ]
  },
  {
   "cell_type": "code",
   "execution_count": null,
   "metadata": {
    "collapsed": false
   },
   "outputs": [],
   "source": [
    "# Generate predictions on competition test set. \n",
    "# compare prediction to results\n",
    "source(\"Generate_submission.R\")\n",
    "final <- submission(model, sparse_ts, df_all[set == \"test\", \"id\"], NAME)\n",
    "\n",
    "head(final$df,20)\n",
    "head(final$file,20)"
   ]
  }
 ],
 "metadata": {
  "kernelspec": {
   "display_name": "R",
   "language": "R",
   "name": "ir"
  },
  "language_info": {
   "codemirror_mode": "r",
   "file_extension": ".r",
   "mimetype": "text/x-r-source",
   "name": "R",
   "pygments_lexer": "r",
   "version": "3.2.4"
  }
 },
 "nbformat": 4,
 "nbformat_minor": 0
}
