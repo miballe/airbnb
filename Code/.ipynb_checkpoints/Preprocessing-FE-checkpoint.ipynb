{
 "cells": [
  {
   "cell_type": "markdown",
   "metadata": {},
   "source": [
    "# Preprocessing\n",
    "\n",
    "In this script we preprocess the training user data and split into internal training and testing sets so it is in a form which is processable by machine learning models."
   ]
  },
  {
   "cell_type": "code",
   "execution_count": 1,
   "metadata": {
    "collapsed": true
   },
   "outputs": [
    {
     "name": "stderr",
     "output_type": "stream",
     "text": [
      "Loading required package: lattice\n",
      "\n",
      "Attaching package: 'dplyr'\n",
      "\n",
      "The following objects are masked from 'package:stats':\n",
      "\n",
      "    filter, lag\n",
      "\n",
      "The following objects are masked from 'package:base':\n",
      "\n",
      "    intersect, setdiff, setequal, union\n",
      "\n"
     ]
    }
   ],
   "source": [
    "# Libraries\n",
    "library(ggplot2)\n",
    "library(caret)\n",
    "library(dplyr)\n",
    "library(readr)\n",
    "\n",
    "# Set seed\n",
    "set.seed(1066)"
   ]
  },
  {
   "cell_type": "code",
   "execution_count": 2,
   "metadata": {
    "collapsed": false
   },
   "outputs": [
    {
     "name": "stdout",
     "output_type": "stream",
     "text": [
      "'data.frame':\t275547 obs. of  35 variables:\n",
      " $ X                      : int  1 2 3 4 5 6 7 8 9 10 ...\n",
      " $ id                     : Factor w/ 275547 levels \"00023iyk9l\",\"0005ytdols\",..: 129856 61844 34121 88356 63040 190164 167259 2769 77033 52565 ...\n",
      " $ age_cln                : int  NA 38 56 42 41 NA 46 47 50 46 ...\n",
      " $ age_cln2               : int  NA 38 56 42 41 NA 46 47 50 46 ...\n",
      " $ age_bucket             : Factor w/ 20 levels \"0-4\",\"100+\",\"15-19\",..: NA 7 12 8 8 NA 9 9 11 9 ...\n",
      " $ dac_year               : int  2010 2011 2010 2011 2010 2010 2010 2010 2010 2010 ...\n",
      " $ dac_month              : int  6 5 9 12 9 1 1 1 1 1 ...\n",
      " $ dac_day                : int  28 25 28 5 14 1 2 3 4 4 ...\n",
      " $ dac_week               : int  26 21 39 49 37 0 0 1 1 1 ...\n",
      " $ dac_yearweek           : int  201026 201121 201039 201149 201037 201000 201000 201001 201001 201001 ...\n",
      " $ dac_yearmonth          : int  201006 201105 201009 201112 201009 201001 201001 201001 201001 201001 ...\n",
      " $ dac_yearmonthday       : int  20100628 20110525 20100928 20111205 20100914 20100101 20100102 20100103 20100104 20100104 ...\n",
      " $ dac_yearmonthweek      : int  20100626 20110521 20100939 20111249 20100937 20100100 20100100 20100101 20100101 20100101 ...\n",
      " $ tfa_year               : int  2009 2009 2009 2009 2009 2010 2010 2010 2010 2010 ...\n",
      " $ tfa_month              : int  3 5 6 10 12 1 1 1 1 1 ...\n",
      " $ tfa_day                : int  19 23 9 31 8 1 2 3 4 4 ...\n",
      " $ tfa_week               : int  11 20 23 43 49 0 0 1 1 1 ...\n",
      " $ tfa_yearweek           : int  200911 200920 200923 200943 200949 201000 201000 201001 201001 201001 ...\n",
      " $ tfa_yearmonth          : int  200903 200905 200906 200910 200912 201001 201001 201001 201001 201001 ...\n",
      " $ tfa_yearmonthday       : int  20090319 20090523 20090609 20091031 20091208 20100101 20100102 20100103 20100104 20100104 ...\n",
      " $ tfa_yearmonthweek      : int  20090311 20090520 20090623 20091043 20091249 20100100 20100100 20100101 20100101 20100101 ...\n",
      " $ lag                    : int  466 732 476 765 280 0 0 0 0 0 ...\n",
      " $ NAs_profile            : int  2 0 0 0 1 2 0 0 0 1 ...\n",
      " $ gender                 : Factor w/ 3 levels \"FEMALE\",\"MALE\",..: NA 2 1 1 NA NA 1 1 1 NA ...\n",
      " $ signup_method          : Factor w/ 4 levels \"basic\",\"facebook\",..: 2 2 1 2 1 1 1 1 1 1 ...\n",
      " $ signup_flow            : int  0 0 3 0 0 0 0 0 0 0 ...\n",
      " $ language               : Factor w/ 26 levels \"-unknown-\",\"ca\",..: 7 7 7 7 7 7 7 7 7 7 ...\n",
      " $ affiliate_channel      : Factor w/ 8 levels \"api\",\"content\",..: 3 8 3 3 3 4 4 3 4 4 ...\n",
      " $ affiliate_provider     : Factor w/ 18 levels \"baidu\",\"bing\",..: 5 9 5 5 5 13 3 5 3 3 ...\n",
      " $ first_affiliate_tracked: Factor w/ 7 levels \"linked\",\"local ops\",..: 7 7 7 7 7 4 7 4 7 4 ...\n",
      " $ signup_app             : Factor w/ 4 levels \"Android\",\"iOS\",..: 4 4 4 4 4 4 4 4 4 4 ...\n",
      " $ first_device_type      : Factor w/ 9 levels \"Android Phone\",..: 6 6 9 6 6 6 6 6 6 6 ...\n",
      " $ first_browser          : Factor w/ 55 levels \"-unknown-\",\"Android Browser\",..: 9 9 25 18 9 9 44 44 44 18 ...\n",
      " $ country_destination    : Factor w/ 12 levels \"AU\",\"CA\",\"DE\",..: 8 8 12 10 12 12 12 12 12 12 ...\n",
      " $ dataset                : Factor w/ 2 levels \"test\",\"train\": 2 2 2 2 2 2 2 2 2 2 ...\n"
     ]
    }
   ],
   "source": [
    "# Read in the data\n",
    "# Assumes the data files from the competition are in \"../Data/\"\n",
    "#\"../Data/train_users_2.csv\"\n",
    "train_users_2 <- read.csv(\"../Data/users_FE.csv\")\n",
    "test_users <- read.csv(\"../Data/test_users.csv\")\n",
    "sessions <- read_csv(\"../Data/sessions.csv\")\n",
    "str(train_users_2)"
   ]
  },
  {
   "cell_type": "markdown",
   "metadata": {},
   "source": [
    "## Test / Train merge / index\n",
    "Split internal training data into a training and testing set so we don't need to evaluate with kaggle leaderboards every time. \n",
    "\n",
    "Merge the 3 sets into one so feature engineering is performed the same on each. "
   ]
  },
  {
   "cell_type": "code",
   "execution_count": 14,
   "metadata": {
    "collapsed": false
   },
   "outputs": [
    {
     "data": {
      "text/plain": [
       "\n",
       "test_external test_internal         train \n",
       "        62096         53358        160093 "
      ]
     },
     "execution_count": 14,
     "metadata": {},
     "output_type": "execute_result"
    }
   ],
   "source": [
    "ii <- train_users_2$dataset == \"train\"\n",
    "\n",
    "\n",
    "# Index internal training and testing sets\n",
    "tr_index <- createDataPartition(y = train_users_2$country_destination, p = .75, list = FALSE)\n",
    "train_users_2$set <- \"test_internal\"\n",
    "train_users_2$set[tr_index] <- \"train\"\n",
    "\n",
    "# Merge training and testing set\n",
    "test_users$country_destination <- \"NDF\"\n",
    "test_users$set <- \"test_external\"\n",
    "dat <- rbind(train_users_2, test_users)\n",
    "\n",
    "dat$set <- as.factor(dat$set)\n",
    "table(dat$set)"
   ]
  },
  {
   "cell_type": "markdown",
   "metadata": {},
   "source": [
    "## Feature Engineering"
   ]
  },
  {
   "cell_type": "code",
   "execution_count": 15,
   "metadata": {
    "collapsed": false
   },
   "outputs": [
    {
     "data": {
      "text/html": [
       "135483"
      ],
      "text/latex": [
       "135483"
      ],
      "text/markdown": [
       "135483"
      ],
      "text/plain": [
       "[1] 135483"
      ]
     },
     "execution_count": 15,
     "metadata": {},
     "output_type": "execute_result"
    }
   ],
   "source": [
    "# Vector of labels the training data for which we have session data (~1/3)\n",
    "sessions_label <- dat$id %in% sessions$user_id\n",
    "sum(sessions_label)\n",
    "\n",
    "# Remove the date_first_booked variable as it is 100% missing on test data (for obvious reasons)\n",
    "dat <- select(dat, -date_first_booking)"
   ]
  },
  {
   "cell_type": "markdown",
   "metadata": {},
   "source": [
    "## Save Output"
   ]
  },
  {
   "cell_type": "code",
   "execution_count": 16,
   "metadata": {
    "collapsed": true
   },
   "outputs": [],
   "source": [
    "saveRDS(dat, \"../Data/users.RDS\")\n",
    "write_csv(dat, \"../Data/users.csv\")"
   ]
  }
 ],
 "metadata": {
  "kernelspec": {
   "display_name": "R",
   "language": "R",
   "name": "ir"
  },
  "language_info": {
   "codemirror_mode": "r",
   "file_extension": ".r",
   "mimetype": "text/x-r-source",
   "name": "R",
   "pygments_lexer": "r",
   "version": "3.2.4"
  }
 },
 "nbformat": 4,
 "nbformat_minor": 0
}
