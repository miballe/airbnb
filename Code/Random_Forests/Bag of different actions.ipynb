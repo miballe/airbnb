{
 "cells": [
  {
   "cell_type": "code",
   "execution_count": 2,
   "metadata": {
    "collapsed": true
   },
   "outputs": [],
   "source": [
    "import pandas as pd"
   ]
  },
  {
   "cell_type": "code",
   "execution_count": 3,
   "metadata": {
    "collapsed": true
   },
   "outputs": [],
   "source": [
    "users = pd.read_csv(\"train_users_2.csv\", na_values=[\"-unknown-\"])\n",
    "session = pd.read_csv(\"sessions.csv\", na_values=[\"-unknown-\"])"
   ]
  },
  {
   "cell_type": "code",
   "execution_count": 4,
   "metadata": {
    "collapsed": true
   },
   "outputs": [],
   "source": [
    "# Create the bag of actions for each of the different columns of action\n",
    "Bag_of_action_detail = session.groupby(by=[\"user_id\",\"action_detail\"])\n",
    "\n",
    "Bag_of_action_type = session.groupby(by=[\"user_id\",\"action_type\"])\n",
    "\n",
    "Bag_of_action = session.groupby(by=[\"user_id\",\"action\"])"
   ]
  },
  {
   "cell_type": "code",
   "execution_count": 5,
   "metadata": {
    "collapsed": false
   },
   "outputs": [],
   "source": [
    "# Actually getting the numbers for each bag\n",
    "\n",
    "BoAT = Bag_of_action_type.count().max(axis=1)\n",
    "\n",
    "BoA = Bag_of_action.count().max(axis=1)"
   ]
  },
  {
   "cell_type": "code",
   "execution_count": 6,
   "metadata": {
    "collapsed": false
   },
   "outputs": [
    {
     "name": "stdout",
     "output_type": "stream",
     "text": [
      "user_id     action                           \n",
      "00023iyk9l  ajax_refresh_subtotal                 2\n",
      "            callback                              1\n",
      "            confirm_email                         1\n",
      "            dashboard                             4\n",
      "            header_userpic                        2\n",
      "            index                                 4\n",
      "            pending                               1\n",
      "            personalize                           4\n",
      "            requested                             5\n",
      "            search_results                        1\n",
      "            show                                  9\n",
      "            similar_listings                      3\n",
      "            travel_plans_current                  2\n",
      "0010k6l0om  ajax_refresh_subtotal                 8\n",
      "            callback                              1\n",
      "            custom_recommended_destinations       1\n",
      "            dashboard                             2\n",
      "            header_userpic                        1\n",
      "            how_it_works                          1\n",
      "            index                                 5\n",
      "            personalize                           8\n",
      "            search_results                        8\n",
      "            show                                 20\n",
      "            similar_listings_v2                   8\n",
      "001wyh0pz8  active                                4\n",
      "            campaigns                             3\n",
      "            collections                           4\n",
      "            create                                1\n",
      "            index                                 2\n",
      "            notifications                         1\n",
      "                                                 ..\n",
      "zzywmcn0jv  ajax_lwlb_contact                     1\n",
      "            ajax_refresh_subtotal                11\n",
      "            ask_question                          2\n",
      "            create                                1\n",
      "            header_userpic                        1\n",
      "            index                                 1\n",
      "            other_hosting_reviews_first           2\n",
      "            personalize                           1\n",
      "            search_results                        1\n",
      "            show                                 16\n",
      "            similar_listings                     11\n",
      "zzzlylp57e  agree_terms_check                     2\n",
      "            ajax_check_dates                      1\n",
      "            ajax_google_translate_description     1\n",
      "            ajax_lwlb_contact                     2\n",
      "            ajax_refresh_subtotal                 8\n",
      "            ask_question                          1\n",
      "            create                                1\n",
      "            header_userpic                        2\n",
      "            impressions                           2\n",
      "            index                                 5\n",
      "            lookup                                1\n",
      "            message_to_host_focus                 1\n",
      "            other_hosting_reviews_first           1\n",
      "            pending                               1\n",
      "            personalize                           6\n",
      "            requested                             5\n",
      "            search_results                       10\n",
      "            show                                 14\n",
      "            similar_listings                      9\n",
      "dtype: int64\n"
     ]
    }
   ],
   "source": [
    "print(BoA)"
   ]
  },
  {
   "cell_type": "code",
   "execution_count": null,
   "metadata": {
    "collapsed": false
   },
   "outputs": [],
   "source": [
    "%qtconsole"
   ]
  },
  {
   "cell_type": "code",
   "execution_count": null,
   "metadata": {
    "collapsed": true
   },
   "outputs": [],
   "source": []
  }
 ],
 "metadata": {
  "kernelspec": {
   "display_name": "Python 3",
   "language": "python",
   "name": "python3"
  },
  "language_info": {
   "codemirror_mode": {
    "name": "ipython",
    "version": 3
   },
   "file_extension": ".py",
   "mimetype": "text/x-python",
   "name": "python",
   "nbconvert_exporter": "python",
   "pygments_lexer": "ipython3",
   "version": "3.4.4"
  }
 },
 "nbformat": 4,
 "nbformat_minor": 0
}
