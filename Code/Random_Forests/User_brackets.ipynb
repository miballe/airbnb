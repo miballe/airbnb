{
 "cells": [
  {
   "cell_type": "code",
   "execution_count": 3,
   "metadata": {
    "collapsed": true
   },
   "outputs": [],
   "source": [
    "import pandas as pd\n",
    "import numpy as np"
   ]
  },
  {
   "cell_type": "code",
   "execution_count": 4,
   "metadata": {
    "collapsed": true
   },
   "outputs": [],
   "source": [
    "%qtconsole"
   ]
  },
  {
   "cell_type": "code",
   "execution_count": 2,
   "metadata": {
    "collapsed": true
   },
   "outputs": [],
   "source": [
    "df = pd.read_csv(\"Brackets_transpose.csv\")"
   ]
  },
  {
   "cell_type": "code",
   "execution_count": 19,
   "metadata": {
    "collapsed": false
   },
   "outputs": [
    {
     "name": "stdout",
     "output_type": "stream",
     "text": [
      "0     US\n",
      "1     US\n",
      "2     US\n",
      "3     US\n",
      "4     US\n",
      "5     US\n",
      "6     US\n",
      "7     US\n",
      "8     US\n",
      "9     US\n",
      "10    US\n",
      "11    US\n",
      "12    US\n",
      "13    US\n",
      "14    US\n",
      "15    US\n",
      "16    US\n",
      "17    US\n",
      "18    US\n",
      "19    US\n",
      "20    US\n",
      "21    US\n",
      "22    US\n",
      "23    US\n",
      "24    US\n",
      "25    US\n",
      "26    US\n",
      "27    US\n",
      "28    US\n",
      "29    US\n",
      "30    US\n",
      "31    US\n",
      "32    US\n",
      "33    US\n",
      "34    US\n",
      "35    US\n",
      "36    US\n",
      "37    US\n",
      "38    US\n",
      "39    US\n",
      "40    US\n",
      "41    US\n",
      "dtype: object\n"
     ]
    }
   ],
   "source": [
    "# Get a dataframe of just the numbers to do argmax.\n",
    "numeric = df.select_dtypes(include=[np.number])\n",
    "max_index = numeric.idxmax(axis=1)\n",
    "\n",
    "# So the most likely place for every age and gender bracket \n",
    "# is the US but where is it after that?\n",
    "print(max_index)"
   ]
  },
  {
   "cell_type": "code",
   "execution_count": 56,
   "metadata": {
    "collapsed": false
   },
   "outputs": [
    {
     "name": "stdout",
     "output_type": "stream",
     "text": [
      "   Country\n",
      "0       FR\n",
      "1       FR\n",
      "2       FR\n",
      "3       DE\n",
      "4       DE\n",
      "5       DE\n",
      "6       DE\n",
      "7       DE\n",
      "8       DE\n",
      "9       DE\n",
      "10      DE\n",
      "11      DE\n",
      "12      DE\n",
      "13      DE\n",
      "14      DE\n",
      "15      DE\n",
      "16      DE\n",
      "17      DE\n",
      "18      DE\n",
      "19      FR\n",
      "20      FR\n",
      "21      FR\n",
      "22      GB\n",
      "23      FR\n",
      "24      DE\n",
      "25      DE\n",
      "26      DE\n",
      "27      DE\n",
      "28      DE\n",
      "29      DE\n",
      "30      DE\n",
      "31      DE\n",
      "32      DE\n",
      "33      DE\n",
      "34      DE\n",
      "35      DE\n",
      "36      DE\n",
      "37      DE\n",
      "38      DE\n",
      "39      FR\n",
      "40      GB\n",
      "41      DE\n"
     ]
    }
   ],
   "source": [
    "# We delete the US column from numeric and redo it.\n",
    "noUS = numeric[[\"AU\",\"CA\",\"DE\",\"ES\",\"FR\", \"GB\", \"IT\",\"NL\", \"PT\"]]\n",
    "noUS_index = pd.DataFrame(noUS.idxmax(axis=1),columns=[\"Country\"])\n",
    "\n",
    "# So the most likely place for every age and gender bracket \n",
    "# is the US but where is it after that?\n",
    "print(noUS_index)"
   ]
  },
  {
   "cell_type": "code",
   "execution_count": 57,
   "metadata": {
    "collapsed": false
   },
   "outputs": [],
   "source": [
    "# Now put this together with the age and gender data\n",
    "noUS_index[\"age\"] = df.age_bucket\n",
    "noUS_index[\"gender\"] = df.gender\n",
    "\n",
    "# write this out to a csv\n",
    "noUS_index.to_csv(\"sec_common_country_by_age_gender.csv\", index=False)"
   ]
  },
  {
   "cell_type": "code",
   "execution_count": null,
   "metadata": {
    "collapsed": true
   },
   "outputs": [],
   "source": []
  }
 ],
 "metadata": {
  "kernelspec": {
   "display_name": "Python 3",
   "language": "python",
   "name": "python3"
  },
  "language_info": {
   "codemirror_mode": {
    "name": "ipython",
    "version": 3
   },
   "file_extension": ".py",
   "mimetype": "text/x-python",
   "name": "python",
   "nbconvert_exporter": "python",
   "pygments_lexer": "ipython3",
   "version": "3.4.4"
  }
 },
 "nbformat": 4,
 "nbformat_minor": 0
}
