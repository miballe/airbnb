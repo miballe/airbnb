{
 "cells": [
  {
   "cell_type": "markdown",
   "metadata": {},
   "source": [
    "# XGBoost\n",
    "\n",
    "* Performs xgboost on training data. \n",
    "* Performs on a prebuilt set of parameters to quickly iterate and test for improvements. \n",
    "\n",
    "** Dataset must be in the following format:  **\n",
    "1. Test and Training data must be combined into one data frame\n",
    "2. A variable called \"dataset\" with factors \"test\" and \"train\" must denote which  dataset each observation comes from. \n",
    "3. Preferrably no NA values (replace with a character or -1 etc.) \n",
    "4. Any features which are numeric are treated as numeric, all other features treated as factors. (numeric means decisions can be made continuously)"
   ]
  },
  {
   "cell_type": "code",
   "execution_count": 2,
   "metadata": {
    "collapsed": false
   },
   "outputs": [
    {
     "name": "stderr",
     "output_type": "stream",
     "text": [
      "\n",
      "Attaching package: 'dplyr'\n",
      "\n",
      "The following object is masked from 'package:xgboost':\n",
      "\n",
      "    slice\n",
      "\n",
      "The following objects are masked from 'package:stats':\n",
      "\n",
      "    filter, lag\n",
      "\n",
      "The following objects are masked from 'package:base':\n",
      "\n",
      "    intersect, setdiff, setequal, union\n",
      "\n",
      "\n",
      "Attaching package: 'data.table'\n",
      "\n",
      "The following objects are masked from 'package:dplyr':\n",
      "\n",
      "    between, last\n",
      "\n",
      "Loading required package: lattice\n",
      "Loading required package: ggplot2\n"
     ]
    }
   ],
   "source": [
    "# Libraries\n",
    "library(xgboost)\n",
    "library(dplyr)\n",
    "library(Matrix)\n",
    "library(data.table)\n",
    "library(Ckmeans.1d.dp)\n",
    "library(e1071)\n",
    "library(caret)\n",
    "library(car)\n",
    "library(readr)\n",
    "\n",
    "# Set Seed\n",
    "set.seed(1066)\n",
    "\n",
    "NAME <- \"BASIC_1\" # Name of Run (used for save file names)\n",
    "DATAPATH <- \"../Data/users_FE.RDa\" # Path to preprocessed data\n",
    "COMPUTE_IMPORTANCE <- FALSE # Toggle computing importance or not because it is computationally expensive"
   ]
  },
  {
   "cell_type": "code",
   "execution_count": 3,
   "metadata": {
    "collapsed": false
   },
   "outputs": [],
   "source": [
    "# Read data\n",
    "df_all <- read_rds(\"../Data/users_FE.RDa\")\n",
    "\n",
    "# Convert all factors into characters (so NAs can be replaced)\n",
    "i <- sapply(df_all, is.factor)\n",
    "df_all[i] <- lapply(df_all[i], as.character)\n",
    "# Ensure there are no NA values (makes sparse matrix method fail)\n",
    "df_all[is.na(df_all)] <- -1\n",
    "\n",
    "# Extract dataset index and output labels from data\n",
    "labels <- df_all$country_destination\n",
    "set <- df_all$dataset\n",
    "\n",
    "# Remove unwanted features if present\n",
    "features_rm <- colnames(df_all) %in% c(\"id\", \"dataset\", \"first_browser\", \"age_cln\", \"age_cln2\", \"date_first_booking, X\")\n",
    "dat <- df_all[, !features_rm] %>%\n",
    "    data.table(keep.rownames = F)"
   ]
  },
  {
   "cell_type": "code",
   "execution_count": 4,
   "metadata": {
    "collapsed": false
   },
   "outputs": [],
   "source": [
    "# One - hot encoding \n",
    "sparse_dat <- suppressWarnings( # Suppress warnings used to prevent warning messages about factor conversion\n",
    "    sparse.model.matrix( ~ . -1, data = df_all[,-1])\n",
    ")\n",
    "\n",
    "# Split into training and test set\n",
    "sparse_tr <- sparse_dat[set == \"train\",]\n",
    "sparse_ts <- sparse_dat[set == \"test\",]"
   ]
  },
  {
   "cell_type": "code",
   "execution_count": 5,
   "metadata": {
    "collapsed": false
   },
   "outputs": [],
   "source": [
    "# Parameter search using Cross validation\n",
    "# http://stats.stackexchange.com/questions/171043/how-to-tune-hyperparameters-of-xgboost-trees\n",
    "# Currently using low number of rounds to test\n",
    "\n",
    "# set up the cross-validated hyper-parameter search\n",
    "xgb_grid_1 = expand.grid(\n",
    "    nrounds = 10,                    # Iterations building each XGB model (100)\n",
    "    max_depth = c(2, 3, 4, 5),       # Maximum tree depth c(2, 4, 6, 8, 10)\n",
    "    eta = c(0.01, 0.005, 0.001),     # Learning rate c(0.01, 0.001, 0.0001)\n",
    "    gamma = 1,                       # Min loss reduction required to make a partition on leaf node [0:inf]\n",
    "    colsample_bytree = 0.3,          # proportion of features used in each tree c(0.3, 0.5, 0.7)\n",
    "    min_child_weight = 1\n",
    ")\n",
    "\n",
    "# trainControl creates settings for caret::train\n",
    "xgb_trcontrol_1 = trainControl(\n",
    "    method = \"cv\",          # Cross validation\n",
    "    number = 3,             # number of folds (5)\n",
    "    verboseIter = TRUE,\n",
    "    returnData = FALSE,\n",
    "    returnResamp = \"all\",   # How many summary stats to save # save losses across all models\n",
    "    allowParallel = TRUE\n",
    ")"
   ]
  },
  {
   "cell_type": "code",
   "execution_count": 6,
   "metadata": {
    "collapsed": false,
    "scrolled": true
   },
   "outputs": [
    {
     "name": "stderr",
     "output_type": "stream",
     "text": [
      "Loading required package: plyr\n",
      "------------------------------------------------------------------------------\n",
      "You have loaded plyr after dplyr - this is likely to cause problems.\n",
      "If you need functions from both plyr and dplyr, please load plyr first, then dplyr:\n",
      "library(plyr); library(dplyr)\n",
      "------------------------------------------------------------------------------\n",
      "\n",
      "Attaching package: 'plyr'\n",
      "\n",
      "The following objects are masked from 'package:dplyr':\n",
      "\n",
      "    arrange, count, desc, failwith, id, mutate, rename, summarise,\n",
      "    summarize\n",
      "\n"
     ]
    },
    {
     "name": "stdout",
     "output_type": "stream",
     "text": [
      "+ Fold1: eta=0.001, max_depth=2, gamma=1, colsample_bytree=0.3, min_child_weight=1, nrounds=10 \n",
      "- Fold1: eta=0.001, max_depth=2, gamma=1, colsample_bytree=0.3, min_child_weight=1, nrounds=10 \n",
      "+ Fold1: eta=0.001, max_depth=3, gamma=1, colsample_bytree=0.3, min_child_weight=1, nrounds=10 \n",
      "- Fold1: eta=0.001, max_depth=3, gamma=1, colsample_bytree=0.3, min_child_weight=1, nrounds=10 \n",
      "+ Fold1: eta=0.001, max_depth=4, gamma=1, colsample_bytree=0.3, min_child_weight=1, nrounds=10 \n",
      "- Fold1: eta=0.001, max_depth=4, gamma=1, colsample_bytree=0.3, min_child_weight=1, nrounds=10 \n",
      "+ Fold1: eta=0.001, max_depth=5, gamma=1, colsample_bytree=0.3, min_child_weight=1, nrounds=10 \n",
      "- Fold1: eta=0.001, max_depth=5, gamma=1, colsample_bytree=0.3, min_child_weight=1, nrounds=10 \n",
      "+ Fold1: eta=0.005, max_depth=2, gamma=1, colsample_bytree=0.3, min_child_weight=1, nrounds=10 \n",
      "- Fold1: eta=0.005, max_depth=2, gamma=1, colsample_bytree=0.3, min_child_weight=1, nrounds=10 \n",
      "+ Fold1: eta=0.005, max_depth=3, gamma=1, colsample_bytree=0.3, min_child_weight=1, nrounds=10 \n",
      "- Fold1: eta=0.005, max_depth=3, gamma=1, colsample_bytree=0.3, min_child_weight=1, nrounds=10 \n",
      "+ Fold1: eta=0.005, max_depth=4, gamma=1, colsample_bytree=0.3, min_child_weight=1, nrounds=10 \n",
      "- Fold1: eta=0.005, max_depth=4, gamma=1, colsample_bytree=0.3, min_child_weight=1, nrounds=10 \n",
      "+ Fold1: eta=0.005, max_depth=5, gamma=1, colsample_bytree=0.3, min_child_weight=1, nrounds=10 \n",
      "- Fold1: eta=0.005, max_depth=5, gamma=1, colsample_bytree=0.3, min_child_weight=1, nrounds=10 \n",
      "+ Fold1: eta=0.010, max_depth=2, gamma=1, colsample_bytree=0.3, min_child_weight=1, nrounds=10 \n",
      "- Fold1: eta=0.010, max_depth=2, gamma=1, colsample_bytree=0.3, min_child_weight=1, nrounds=10 \n",
      "+ Fold1: eta=0.010, max_depth=3, gamma=1, colsample_bytree=0.3, min_child_weight=1, nrounds=10 \n",
      "- Fold1: eta=0.010, max_depth=3, gamma=1, colsample_bytree=0.3, min_child_weight=1, nrounds=10 \n",
      "+ Fold1: eta=0.010, max_depth=4, gamma=1, colsample_bytree=0.3, min_child_weight=1, nrounds=10 \n",
      "- Fold1: eta=0.010, max_depth=4, gamma=1, colsample_bytree=0.3, min_child_weight=1, nrounds=10 \n",
      "+ Fold1: eta=0.010, max_depth=5, gamma=1, colsample_bytree=0.3, min_child_weight=1, nrounds=10 \n",
      "- Fold1: eta=0.010, max_depth=5, gamma=1, colsample_bytree=0.3, min_child_weight=1, nrounds=10 \n",
      "+ Fold2: eta=0.001, max_depth=2, gamma=1, colsample_bytree=0.3, min_child_weight=1, nrounds=10 \n",
      "- Fold2: eta=0.001, max_depth=2, gamma=1, colsample_bytree=0.3, min_child_weight=1, nrounds=10 \n",
      "+ Fold2: eta=0.001, max_depth=3, gamma=1, colsample_bytree=0.3, min_child_weight=1, nrounds=10 \n",
      "- Fold2: eta=0.001, max_depth=3, gamma=1, colsample_bytree=0.3, min_child_weight=1, nrounds=10 \n",
      "+ Fold2: eta=0.001, max_depth=4, gamma=1, colsample_bytree=0.3, min_child_weight=1, nrounds=10 \n",
      "- Fold2: eta=0.001, max_depth=4, gamma=1, colsample_bytree=0.3, min_child_weight=1, nrounds=10 \n",
      "+ Fold2: eta=0.001, max_depth=5, gamma=1, colsample_bytree=0.3, min_child_weight=1, nrounds=10 \n",
      "- Fold2: eta=0.001, max_depth=5, gamma=1, colsample_bytree=0.3, min_child_weight=1, nrounds=10 \n",
      "+ Fold2: eta=0.005, max_depth=2, gamma=1, colsample_bytree=0.3, min_child_weight=1, nrounds=10 \n",
      "- Fold2: eta=0.005, max_depth=2, gamma=1, colsample_bytree=0.3, min_child_weight=1, nrounds=10 \n",
      "+ Fold2: eta=0.005, max_depth=3, gamma=1, colsample_bytree=0.3, min_child_weight=1, nrounds=10 \n",
      "- Fold2: eta=0.005, max_depth=3, gamma=1, colsample_bytree=0.3, min_child_weight=1, nrounds=10 \n",
      "+ Fold2: eta=0.005, max_depth=4, gamma=1, colsample_bytree=0.3, min_child_weight=1, nrounds=10 \n",
      "- Fold2: eta=0.005, max_depth=4, gamma=1, colsample_bytree=0.3, min_child_weight=1, nrounds=10 \n",
      "+ Fold2: eta=0.005, max_depth=5, gamma=1, colsample_bytree=0.3, min_child_weight=1, nrounds=10 \n",
      "- Fold2: eta=0.005, max_depth=5, gamma=1, colsample_bytree=0.3, min_child_weight=1, nrounds=10 \n",
      "+ Fold2: eta=0.010, max_depth=2, gamma=1, colsample_bytree=0.3, min_child_weight=1, nrounds=10 \n",
      "- Fold2: eta=0.010, max_depth=2, gamma=1, colsample_bytree=0.3, min_child_weight=1, nrounds=10 \n",
      "+ Fold2: eta=0.010, max_depth=3, gamma=1, colsample_bytree=0.3, min_child_weight=1, nrounds=10 \n",
      "- Fold2: eta=0.010, max_depth=3, gamma=1, colsample_bytree=0.3, min_child_weight=1, nrounds=10 \n",
      "+ Fold2: eta=0.010, max_depth=4, gamma=1, colsample_bytree=0.3, min_child_weight=1, nrounds=10 \n",
      "- Fold2: eta=0.010, max_depth=4, gamma=1, colsample_bytree=0.3, min_child_weight=1, nrounds=10 \n",
      "+ Fold2: eta=0.010, max_depth=5, gamma=1, colsample_bytree=0.3, min_child_weight=1, nrounds=10 \n",
      "- Fold2: eta=0.010, max_depth=5, gamma=1, colsample_bytree=0.3, min_child_weight=1, nrounds=10 \n",
      "+ Fold3: eta=0.001, max_depth=2, gamma=1, colsample_bytree=0.3, min_child_weight=1, nrounds=10 \n",
      "- Fold3: eta=0.001, max_depth=2, gamma=1, colsample_bytree=0.3, min_child_weight=1, nrounds=10 \n",
      "+ Fold3: eta=0.001, max_depth=3, gamma=1, colsample_bytree=0.3, min_child_weight=1, nrounds=10 \n",
      "- Fold3: eta=0.001, max_depth=3, gamma=1, colsample_bytree=0.3, min_child_weight=1, nrounds=10 \n",
      "+ Fold3: eta=0.001, max_depth=4, gamma=1, colsample_bytree=0.3, min_child_weight=1, nrounds=10 \n",
      "- Fold3: eta=0.001, max_depth=4, gamma=1, colsample_bytree=0.3, min_child_weight=1, nrounds=10 \n",
      "+ Fold3: eta=0.001, max_depth=5, gamma=1, colsample_bytree=0.3, min_child_weight=1, nrounds=10 \n",
      "- Fold3: eta=0.001, max_depth=5, gamma=1, colsample_bytree=0.3, min_child_weight=1, nrounds=10 \n",
      "+ Fold3: eta=0.005, max_depth=2, gamma=1, colsample_bytree=0.3, min_child_weight=1, nrounds=10 \n",
      "- Fold3: eta=0.005, max_depth=2, gamma=1, colsample_bytree=0.3, min_child_weight=1, nrounds=10 \n",
      "+ Fold3: eta=0.005, max_depth=3, gamma=1, colsample_bytree=0.3, min_child_weight=1, nrounds=10 \n",
      "- Fold3: eta=0.005, max_depth=3, gamma=1, colsample_bytree=0.3, min_child_weight=1, nrounds=10 \n",
      "+ Fold3: eta=0.005, max_depth=4, gamma=1, colsample_bytree=0.3, min_child_weight=1, nrounds=10 \n",
      "- Fold3: eta=0.005, max_depth=4, gamma=1, colsample_bytree=0.3, min_child_weight=1, nrounds=10 \n",
      "+ Fold3: eta=0.005, max_depth=5, gamma=1, colsample_bytree=0.3, min_child_weight=1, nrounds=10 \n",
      "- Fold3: eta=0.005, max_depth=5, gamma=1, colsample_bytree=0.3, min_child_weight=1, nrounds=10 \n",
      "+ Fold3: eta=0.010, max_depth=2, gamma=1, colsample_bytree=0.3, min_child_weight=1, nrounds=10 \n",
      "- Fold3: eta=0.010, max_depth=2, gamma=1, colsample_bytree=0.3, min_child_weight=1, nrounds=10 \n",
      "+ Fold3: eta=0.010, max_depth=3, gamma=1, colsample_bytree=0.3, min_child_weight=1, nrounds=10 \n",
      "- Fold3: eta=0.010, max_depth=3, gamma=1, colsample_bytree=0.3, min_child_weight=1, nrounds=10 \n",
      "+ Fold3: eta=0.010, max_depth=4, gamma=1, colsample_bytree=0.3, min_child_weight=1, nrounds=10 \n",
      "- Fold3: eta=0.010, max_depth=4, gamma=1, colsample_bytree=0.3, min_child_weight=1, nrounds=10 \n",
      "+ Fold3: eta=0.010, max_depth=5, gamma=1, colsample_bytree=0.3, min_child_weight=1, nrounds=10 \n",
      "- Fold3: eta=0.010, max_depth=5, gamma=1, colsample_bytree=0.3, min_child_weight=1, nrounds=10 \n",
      "Aggregating results\n",
      "Selecting tuning parameters\n",
      "Fitting nrounds = 10, max_depth = 2, eta = 0.001, gamma = 1, colsample_bytree = 0.3, min_child_weight = 1 on full training set\n"
     ]
    }
   ],
   "source": [
    "# XGB requires labels to be numeric indexed at 0. \n",
    "#y <- recode(labels,\"'NDF'=0; 'US'=1; 'other'=2; 'FR'=3; 'CA'=4; 'GB'=5; 'ES'=6; 'IT'=7; 'PT'=8; 'NL'=9; 'DE'=10; 'AU'=11\")\n",
    "\n",
    "# train xgboost\n",
    "# \"Kappa\" metric used for evaluation\n",
    " xgb = train(\n",
    "     x = sparse_tr,\n",
    "     y = labels[set == \"train\"],\n",
    "     trControl = xgb_trcontrol_1,\n",
    "     tuneGrid = xgb_grid_1,\n",
    "     method = \"xgbTree\", \n",
    "     metric = \"Kappa\"\n",
    " )\n",
    "\n",
    "model <- xgb$finalModel"
   ]
  },
  {
   "cell_type": "code",
   "execution_count": 7,
   "metadata": {
    "collapsed": false
   },
   "outputs": [],
   "source": [
    "# Plots performance metrics if caret was used \n",
    "if(COMPUTE_IMPORTANCE){\n",
    "# Evaluating importance of features to the model\n",
    "importance <- xgb.importance(sparse_tr@Dimnames[[2]], \n",
    "                             model = model, \n",
    "                             data = sparse_tr, \n",
    "                             label = labels[set == \"train\"]\n",
    "                            )\n",
    "xgb.plot.importance(importance_matrix = head(importance,30))\n",
    "}"
   ]
  },
  {
   "cell_type": "markdown",
   "metadata": {},
   "source": [
    "## Submission\n",
    "https://www.kaggle.com/indradenbakker/airbnb-recruiting-new-user-bookings/rscript-0-86547/discussion  \n",
    "As per the example script above this submission file currently just takes the top 5 predictions in order as its submission file."
   ]
  },
  {
   "cell_type": "code",
   "execution_count": 8,
   "metadata": {
    "collapsed": false
   },
   "outputs": [
    {
     "name": "stdout",
     "output_type": "stream",
     "text": [
      "List of 6\n",
      " $ handle     :Class 'xgb.Booster.handle' <externalptr> \n",
      " $ raw        : raw [1:39380] 00 00 00 3f ...\n",
      " $ xNames     : chr [1:382] \"age_cln\" \"age_cln2\" \"age_bucket-1\" \"age_bucket0-4\" ...\n",
      " $ problemType: chr \"Classification\"\n",
      " $ tuneValue  :'data.frame':\t1 obs. of  6 variables:\n",
      "  ..$ nrounds         : num 10\n",
      "  ..$ max_depth       : num 2\n",
      "  ..$ eta             : num 0.001\n",
      "  ..$ gamma           : num 1\n",
      "  ..$ colsample_bytree: num 0.3\n",
      "  ..$ min_child_weight: num 1\n",
      " $ obsLevels  : chr [1:12] \"AU\" \"CA\" \"DE\" \"ES\" ...\n",
      " - attr(*, \"class\")= chr \"xgb.Booster\"\n"
     ]
    }
   ],
   "source": [
    "str(model)\n",
    "#model <- xgb$finalModel"
   ]
  },
  {
   "cell_type": "code",
   "execution_count": 9,
   "metadata": {
    "collapsed": false
   },
   "outputs": [
    {
     "data": {
      "text/html": [
       "<table>\n",
       "<thead><tr><th></th><th scope=col>V1</th><th scope=col>V2</th><th scope=col>V3</th><th scope=col>V4</th><th scope=col>V5</th><th scope=col>id</th></tr></thead>\n",
       "<tbody>\n",
       "\t<tr><th scope=row>V1</th><td>NDF</td><td>US</td><td>other</td><td>FR</td><td>IT</td><td>5uwns89zht</td></tr>\n",
       "\t<tr><th scope=row>V2</th><td>NDF</td><td>US</td><td>other</td><td>FR</td><td>IT</td><td>jtl0dijy2j</td></tr>\n",
       "\t<tr><th scope=row>V3</th><td>NDF</td><td>US</td><td>other</td><td>FR</td><td>IT</td><td>xx0ulgorjt</td></tr>\n",
       "\t<tr><th scope=row>V4</th><td>NDF</td><td>US</td><td>other</td><td>FR</td><td>IT</td><td>6c6puo6ix0</td></tr>\n",
       "\t<tr><th scope=row>V5</th><td>NDF</td><td>US</td><td>other</td><td>FR</td><td>IT</td><td>czqhjk3yfe</td></tr>\n",
       "\t<tr><th scope=row>V6</th><td>NDF</td><td>US</td><td>other</td><td>FR</td><td>IT</td><td>szx28ujmhf</td></tr>\n",
       "\t<tr><th scope=row>V7</th><td>NDF</td><td>US</td><td>other</td><td>FR</td><td>IT</td><td>guenkfjcbq</td></tr>\n",
       "\t<tr><th scope=row>V8</th><td>NDF</td><td>US</td><td>other</td><td>FR</td><td>IT</td><td>tkpq0mlugk</td></tr>\n",
       "\t<tr><th scope=row>V9</th><td>NDF</td><td>US</td><td>other</td><td>FR</td><td>IT</td><td>3xtgd5p9dn</td></tr>\n",
       "\t<tr><th scope=row>V10</th><td>NDF</td><td>US</td><td>other</td><td>FR</td><td>IT</td><td>md9aj22l5a</td></tr>\n",
       "\t<tr><th scope=row>V11</th><td>NDF</td><td>US</td><td>other</td><td>FR</td><td>IT</td><td>gg3eswjxdf</td></tr>\n",
       "\t<tr><th scope=row>V12</th><td>NDF</td><td>US</td><td>other</td><td>FR</td><td>IT</td><td>fyomoivygn</td></tr>\n",
       "\t<tr><th scope=row>V13</th><td>NDF</td><td>US</td><td>other</td><td>FR</td><td>IT</td><td>iq4kkd5oan</td></tr>\n",
       "\t<tr><th scope=row>V14</th><td>NDF</td><td>US</td><td>other</td><td>FR</td><td>IT</td><td>6k1xls6x5j</td></tr>\n",
       "\t<tr><th scope=row>V15</th><td>NDF</td><td>US</td><td>other</td><td>FR</td><td>IT</td><td>jodmb2ok1f</td></tr>\n",
       "\t<tr><th scope=row>V16</th><td>NDF</td><td>US</td><td>other</td><td>FR</td><td>IT</td><td>eq6fy0m4vc</td></tr>\n",
       "\t<tr><th scope=row>V17</th><td>NDF</td><td>US</td><td>other</td><td>FR</td><td>IT</td><td>yq4i7nfh6l</td></tr>\n",
       "\t<tr><th scope=row>V18</th><td>NDF</td><td>US</td><td>other</td><td>FR</td><td>IT</td><td>q5pibqdous</td></tr>\n",
       "\t<tr><th scope=row>V19</th><td>NDF</td><td>US</td><td>other</td><td>FR</td><td>IT</td><td>i0sc6d3j8s</td></tr>\n",
       "\t<tr><th scope=row>V20</th><td>NDF</td><td>US</td><td>other</td><td>FR</td><td>IT</td><td>br5mcrsqzn</td></tr>\n",
       "</tbody>\n",
       "</table>\n"
      ],
      "text/latex": [
       "\\begin{tabular}{r|llllll}\n",
       "  & V1 & V2 & V3 & V4 & V5 & id\\\\\n",
       "\\hline\n",
       "\tV1 & NDF & US & other & FR & IT & 5uwns89zht\\\\\n",
       "\tV2 & NDF & US & other & FR & IT & jtl0dijy2j\\\\\n",
       "\tV3 & NDF & US & other & FR & IT & xx0ulgorjt\\\\\n",
       "\tV4 & NDF & US & other & FR & IT & 6c6puo6ix0\\\\\n",
       "\tV5 & NDF & US & other & FR & IT & czqhjk3yfe\\\\\n",
       "\tV6 & NDF & US & other & FR & IT & szx28ujmhf\\\\\n",
       "\tV7 & NDF & US & other & FR & IT & guenkfjcbq\\\\\n",
       "\tV8 & NDF & US & other & FR & IT & tkpq0mlugk\\\\\n",
       "\tV9 & NDF & US & other & FR & IT & 3xtgd5p9dn\\\\\n",
       "\tV10 & NDF & US & other & FR & IT & md9aj22l5a\\\\\n",
       "\tV11 & NDF & US & other & FR & IT & gg3eswjxdf\\\\\n",
       "\tV12 & NDF & US & other & FR & IT & fyomoivygn\\\\\n",
       "\tV13 & NDF & US & other & FR & IT & iq4kkd5oan\\\\\n",
       "\tV14 & NDF & US & other & FR & IT & 6k1xls6x5j\\\\\n",
       "\tV15 & NDF & US & other & FR & IT & jodmb2ok1f\\\\\n",
       "\tV16 & NDF & US & other & FR & IT & eq6fy0m4vc\\\\\n",
       "\tV17 & NDF & US & other & FR & IT & yq4i7nfh6l\\\\\n",
       "\tV18 & NDF & US & other & FR & IT & q5pibqdous\\\\\n",
       "\tV19 & NDF & US & other & FR & IT & i0sc6d3j8s\\\\\n",
       "\tV20 & NDF & US & other & FR & IT & br5mcrsqzn\\\\\n",
       "\\end{tabular}\n"
      ],
      "text/plain": [
       "     V1 V2    V3 V4 V5         id\n",
       "V1  NDF US other FR IT 5uwns89zht\n",
       "V2  NDF US other FR IT jtl0dijy2j\n",
       "V3  NDF US other FR IT xx0ulgorjt\n",
       "V4  NDF US other FR IT 6c6puo6ix0\n",
       "V5  NDF US other FR IT czqhjk3yfe\n",
       "V6  NDF US other FR IT szx28ujmhf\n",
       "V7  NDF US other FR IT guenkfjcbq\n",
       "V8  NDF US other FR IT tkpq0mlugk\n",
       "V9  NDF US other FR IT 3xtgd5p9dn\n",
       "V10 NDF US other FR IT md9aj22l5a\n",
       "V11 NDF US other FR IT gg3eswjxdf\n",
       "V12 NDF US other FR IT fyomoivygn\n",
       "V13 NDF US other FR IT iq4kkd5oan\n",
       "V14 NDF US other FR IT 6k1xls6x5j\n",
       "V15 NDF US other FR IT jodmb2ok1f\n",
       "V16 NDF US other FR IT eq6fy0m4vc\n",
       "V17 NDF US other FR IT yq4i7nfh6l\n",
       "V18 NDF US other FR IT q5pibqdous\n",
       "V19 NDF US other FR IT i0sc6d3j8s\n",
       "V20 NDF US other FR IT br5mcrsqzn"
      ]
     },
     "execution_count": 9,
     "metadata": {},
     "output_type": "execute_result"
    },
    {
     "data": {
      "text/html": [
       "<table>\n",
       "<thead><tr><th></th><th scope=col>id</th><th scope=col>country</th></tr></thead>\n",
       "<tbody>\n",
       "\t<tr><th scope=row>1</th><td>5uwns89zht</td><td>NDF</td></tr>\n",
       "\t<tr><th scope=row>2</th><td>5uwns89zht</td><td>US</td></tr>\n",
       "\t<tr><th scope=row>3</th><td>5uwns89zht</td><td>other</td></tr>\n",
       "\t<tr><th scope=row>4</th><td>5uwns89zht</td><td>FR</td></tr>\n",
       "\t<tr><th scope=row>5</th><td>5uwns89zht</td><td>IT</td></tr>\n",
       "\t<tr><th scope=row>6</th><td>jtl0dijy2j</td><td>NDF</td></tr>\n",
       "\t<tr><th scope=row>7</th><td>jtl0dijy2j</td><td>US</td></tr>\n",
       "\t<tr><th scope=row>8</th><td>jtl0dijy2j</td><td>other</td></tr>\n",
       "\t<tr><th scope=row>9</th><td>jtl0dijy2j</td><td>FR</td></tr>\n",
       "\t<tr><th scope=row>10</th><td>jtl0dijy2j</td><td>IT</td></tr>\n",
       "\t<tr><th scope=row>11</th><td>xx0ulgorjt</td><td>NDF</td></tr>\n",
       "\t<tr><th scope=row>12</th><td>xx0ulgorjt</td><td>US</td></tr>\n",
       "\t<tr><th scope=row>13</th><td>xx0ulgorjt</td><td>other</td></tr>\n",
       "\t<tr><th scope=row>14</th><td>xx0ulgorjt</td><td>FR</td></tr>\n",
       "\t<tr><th scope=row>15</th><td>xx0ulgorjt</td><td>IT</td></tr>\n",
       "\t<tr><th scope=row>16</th><td>6c6puo6ix0</td><td>NDF</td></tr>\n",
       "\t<tr><th scope=row>17</th><td>6c6puo6ix0</td><td>US</td></tr>\n",
       "\t<tr><th scope=row>18</th><td>6c6puo6ix0</td><td>other</td></tr>\n",
       "\t<tr><th scope=row>19</th><td>6c6puo6ix0</td><td>FR</td></tr>\n",
       "\t<tr><th scope=row>20</th><td>6c6puo6ix0</td><td>IT</td></tr>\n",
       "</tbody>\n",
       "</table>\n"
      ],
      "text/latex": [
       "\\begin{tabular}{r|ll}\n",
       "  & id & country\\\\\n",
       "\\hline\n",
       "\t1 & 5uwns89zht & NDF\\\\\n",
       "\t2 & 5uwns89zht & US\\\\\n",
       "\t3 & 5uwns89zht & other\\\\\n",
       "\t4 & 5uwns89zht & FR\\\\\n",
       "\t5 & 5uwns89zht & IT\\\\\n",
       "\t6 & jtl0dijy2j & NDF\\\\\n",
       "\t7 & jtl0dijy2j & US\\\\\n",
       "\t8 & jtl0dijy2j & other\\\\\n",
       "\t9 & jtl0dijy2j & FR\\\\\n",
       "\t10 & jtl0dijy2j & IT\\\\\n",
       "\t11 & xx0ulgorjt & NDF\\\\\n",
       "\t12 & xx0ulgorjt & US\\\\\n",
       "\t13 & xx0ulgorjt & other\\\\\n",
       "\t14 & xx0ulgorjt & FR\\\\\n",
       "\t15 & xx0ulgorjt & IT\\\\\n",
       "\t16 & 6c6puo6ix0 & NDF\\\\\n",
       "\t17 & 6c6puo6ix0 & US\\\\\n",
       "\t18 & 6c6puo6ix0 & other\\\\\n",
       "\t19 & 6c6puo6ix0 & FR\\\\\n",
       "\t20 & 6c6puo6ix0 & IT\\\\\n",
       "\\end{tabular}\n"
      ],
      "text/plain": [
       "           id country\n",
       "1  5uwns89zht     NDF\n",
       "2  5uwns89zht      US\n",
       "3  5uwns89zht   other\n",
       "4  5uwns89zht      FR\n",
       "5  5uwns89zht      IT\n",
       "6  jtl0dijy2j     NDF\n",
       "7  jtl0dijy2j      US\n",
       "8  jtl0dijy2j   other\n",
       "9  jtl0dijy2j      FR\n",
       "10 jtl0dijy2j      IT\n",
       "11 xx0ulgorjt     NDF\n",
       "12 xx0ulgorjt      US\n",
       "13 xx0ulgorjt   other\n",
       "14 xx0ulgorjt      FR\n",
       "15 xx0ulgorjt      IT\n",
       "16 6c6puo6ix0     NDF\n",
       "17 6c6puo6ix0      US\n",
       "18 6c6puo6ix0   other\n",
       "19 6c6puo6ix0      FR\n",
       "20 6c6puo6ix0      IT"
      ]
     },
     "execution_count": 9,
     "metadata": {},
     "output_type": "execute_result"
    }
   ],
   "source": [
    "# Generate predictions on competition test set. \n",
    "# compare prediction to results\n",
    "source(\"Generate_submission.R\")\n",
    "final <- submission(model, sparse_ts, df_all[set == \"test\", \"id\"], NAME)\n",
    "\n",
    "head(final$df,20)\n",
    "head(final$file,20)"
   ]
  }
 ],
 "metadata": {
  "kernelspec": {
   "display_name": "R",
   "language": "R",
   "name": "ir"
  },
  "language_info": {
   "codemirror_mode": "r",
   "file_extension": ".r",
   "mimetype": "text/x-r-source",
   "name": "R",
   "pygments_lexer": "r",
   "version": "3.2.4"
  }
 },
 "nbformat": 4,
 "nbformat_minor": 0
}
