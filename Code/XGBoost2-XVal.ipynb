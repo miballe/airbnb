{
 "cells": [
  {
   "cell_type": "markdown",
   "metadata": {},
   "source": [
    "# XGBoost\n",
    "\n",
    "* Performs xgboost on training data. \n",
    "* Performs on a prebuilt set of parameters to quickly iterate and test for improvements. \n",
    "\n",
    "** Dataset must be in the following format:  **\n",
    "1. Test and Training data must be combined into one data frame\n",
    "2. A variable called \"dataset\" with factors \"test\" and \"train\" must denote which  dataset each observation comes from. \n",
    "3. Preferrably no NA values (replace with a character or -1 etc.) \n",
    "4. Any features which are numeric are treated as numeric, all other features treated as factors. (numeric means decisions can be made continuously)"
   ]
  },
  {
   "cell_type": "code",
   "execution_count": 3,
   "metadata": {
    "collapsed": false
   },
   "outputs": [],
   "source": [
    "# Libraries\n",
    "library(xgboost)\n",
    "library(dplyr)\n",
    "library(Matrix)\n",
    "library(data.table)\n",
    "library(Ckmeans.1d.dp)\n",
    "library(e1071)\n",
    "library(caret)\n",
    "library(car)\n",
    "library(readr)\n",
    "\n",
    "# Set Seed\n",
    "set.seed(1066)\n",
    "\n",
    "NAME <- \"BASIC_1\" # Name of Run (used for save file names)\n",
    "DATAPATH <- \"../Data/users_FE.RDa\" # Path to preprocessed data\n",
    "COMPUTE_IMPORTANCE <- FALSE # Toggle computing importance or not because it is computationally expensive"
   ]
  },
  {
   "cell_type": "code",
   "execution_count": 6,
   "metadata": {
    "collapsed": false
   },
   "outputs": [],
   "source": [
    "# Read data\n",
    "df_all <- read_rds(\"../Data/users_FE.RDa\")\n",
    "\n",
    "# Convert all factors into characters (so NAs can be replaced)\n",
    "i <- sapply(df_all, is.factor)\n",
    "df_all[i] <- lapply(df_all[i], as.character)\n",
    "# Ensure there are no NA values (makes sparse matrix method fail)\n",
    "df_all[is.na(df_all)] <- -1\n",
    "\n",
    "# Extract dataset index and output labels from data\n",
    "labels <- df_all$country_destination\n",
    "set <- df_all$dataset\n",
    "\n",
    "# Remove unwanted features if present\n",
    "features_rm <- colnames(df_all) %in% c(\"id\", \"dataset\", \"first_browser\", \"age_cln\", \"age_cln2\", \"date_first_booking, X\")\n",
    "dat <- df_all[, !features_rm] %>%\n",
    "    data.table(keep.rownames = F)"
   ]
  },
  {
   "cell_type": "code",
   "execution_count": 7,
   "metadata": {
    "collapsed": false
   },
   "outputs": [],
   "source": [
    "# One - hot encoding \n",
    "sparse_dat <- suppressWarnings( # Suppress warnings used to prevent warning messages about factor conversion\n",
    "    sparse.model.matrix( ~ . -1, data = df_all[,-1])\n",
    ")\n",
    "\n",
    "# Split into training and test set\n",
    "sparse_tr <- sparse_dat[set == \"train\",]\n",
    "sparse_ts <- sparse_dat[set == \"test\",]"
   ]
  },
  {
   "cell_type": "code",
   "execution_count": 8,
   "metadata": {
    "collapsed": false
   },
   "outputs": [],
   "source": [
    "# Parameter search using Cross validation\n",
    "# http://stats.stackexchange.com/questions/171043/how-to-tune-hyperparameters-of-xgboost-trees\n",
    "# Currently using low number of rounds to test\n",
    "\n",
    "# set up the cross-validated hyper-parameter search\n",
    "xgb_grid_1 = expand.grid(\n",
    "    nrounds = 10,                    # Iterations building each XGB model (100)\n",
    "    max_depth = c(2, 3, 4, 5),       # Maximum tree depth c(2, 4, 6, 8, 10)\n",
    "    eta = c(0.01, 0.005, 0.001),     # Learning rate c(0.01, 0.001, 0.0001)\n",
    "    gamma = 1,                       # Min loss reduction required to make a partition on leaf node [0:inf]\n",
    "    colsample_bytree = 0.3,          # proportion of features used in each tree c(0.3, 0.5, 0.7)\n",
    "    min_child_weight = 1\n",
    ")\n",
    "\n",
    "# trainControl creates settings for caret::train\n",
    "xgb_trcontrol_1 = trainControl(\n",
    "    method = \"cv\",          # Cross validation\n",
    "    number = 3,             # number of folds (5)\n",
    "    verboseIter = TRUE,\n",
    "    returnData = FALSE,\n",
    "    returnResamp = \"all\",   # How many summary stats to save # save losses across all models\n",
    "    allowParallel = TRUE\n",
    ")"
   ]
  },
  {
   "cell_type": "code",
   "execution_count": 10,
   "metadata": {
    "collapsed": false,
    "scrolled": true
   },
   "outputs": [
    {
     "name": "stderr",
     "output_type": "stream",
     "text": [
      "Warning message:\n",
      "In train.default(x = sparse_tr, y = y[set == \"train\"], trControl = xgb_trcontrol_1, : The metric \"merror\" was not in the result set. RMSE will be used instead."
     ]
    },
    {
     "name": "stdout",
     "output_type": "stream",
     "text": [
      "+ Fold1: eta=0.001, max_depth=2, gamma=1, colsample_bytree=0.3, min_child_weight=1, nrounds=10 \n",
      "- Fold1: eta=0.001, max_depth=2, gamma=1, colsample_bytree=0.3, min_child_weight=1, nrounds=10 \n",
      "+ Fold1: eta=0.001, max_depth=3, gamma=1, colsample_bytree=0.3, min_child_weight=1, nrounds=10 \n",
      "- Fold1: eta=0.001, max_depth=3, gamma=1, colsample_bytree=0.3, min_child_weight=1, nrounds=10 \n",
      "+ Fold1: eta=0.001, max_depth=4, gamma=1, colsample_bytree=0.3, min_child_weight=1, nrounds=10 \n",
      "- Fold1: eta=0.001, max_depth=4, gamma=1, colsample_bytree=0.3, min_child_weight=1, nrounds=10 \n",
      "+ Fold1: eta=0.001, max_depth=5, gamma=1, colsample_bytree=0.3, min_child_weight=1, nrounds=10 \n",
      "- Fold1: eta=0.001, max_depth=5, gamma=1, colsample_bytree=0.3, min_child_weight=1, nrounds=10 \n",
      "+ Fold1: eta=0.005, max_depth=2, gamma=1, colsample_bytree=0.3, min_child_weight=1, nrounds=10 \n",
      "- Fold1: eta=0.005, max_depth=2, gamma=1, colsample_bytree=0.3, min_child_weight=1, nrounds=10 \n",
      "+ Fold1: eta=0.005, max_depth=3, gamma=1, colsample_bytree=0.3, min_child_weight=1, nrounds=10 \n",
      "- Fold1: eta=0.005, max_depth=3, gamma=1, colsample_bytree=0.3, min_child_weight=1, nrounds=10 \n",
      "+ Fold1: eta=0.005, max_depth=4, gamma=1, colsample_bytree=0.3, min_child_weight=1, nrounds=10 \n",
      "- Fold1: eta=0.005, max_depth=4, gamma=1, colsample_bytree=0.3, min_child_weight=1, nrounds=10 \n",
      "+ Fold1: eta=0.005, max_depth=5, gamma=1, colsample_bytree=0.3, min_child_weight=1, nrounds=10 \n",
      "- Fold1: eta=0.005, max_depth=5, gamma=1, colsample_bytree=0.3, min_child_weight=1, nrounds=10 \n",
      "+ Fold1: eta=0.010, max_depth=2, gamma=1, colsample_bytree=0.3, min_child_weight=1, nrounds=10 \n",
      "- Fold1: eta=0.010, max_depth=2, gamma=1, colsample_bytree=0.3, min_child_weight=1, nrounds=10 \n",
      "+ Fold1: eta=0.010, max_depth=3, gamma=1, colsample_bytree=0.3, min_child_weight=1, nrounds=10 \n",
      "- Fold1: eta=0.010, max_depth=3, gamma=1, colsample_bytree=0.3, min_child_weight=1, nrounds=10 \n",
      "+ Fold1: eta=0.010, max_depth=4, gamma=1, colsample_bytree=0.3, min_child_weight=1, nrounds=10 \n",
      "- Fold1: eta=0.010, max_depth=4, gamma=1, colsample_bytree=0.3, min_child_weight=1, nrounds=10 \n",
      "+ Fold1: eta=0.010, max_depth=5, gamma=1, colsample_bytree=0.3, min_child_weight=1, nrounds=10 \n",
      "- Fold1: eta=0.010, max_depth=5, gamma=1, colsample_bytree=0.3, min_child_weight=1, nrounds=10 \n",
      "+ Fold2: eta=0.001, max_depth=2, gamma=1, colsample_bytree=0.3, min_child_weight=1, nrounds=10 \n",
      "- Fold2: eta=0.001, max_depth=2, gamma=1, colsample_bytree=0.3, min_child_weight=1, nrounds=10 \n",
      "+ Fold2: eta=0.001, max_depth=3, gamma=1, colsample_bytree=0.3, min_child_weight=1, nrounds=10 \n",
      "- Fold2: eta=0.001, max_depth=3, gamma=1, colsample_bytree=0.3, min_child_weight=1, nrounds=10 \n",
      "+ Fold2: eta=0.001, max_depth=4, gamma=1, colsample_bytree=0.3, min_child_weight=1, nrounds=10 \n",
      "- Fold2: eta=0.001, max_depth=4, gamma=1, colsample_bytree=0.3, min_child_weight=1, nrounds=10 \n",
      "+ Fold2: eta=0.001, max_depth=5, gamma=1, colsample_bytree=0.3, min_child_weight=1, nrounds=10 \n",
      "- Fold2: eta=0.001, max_depth=5, gamma=1, colsample_bytree=0.3, min_child_weight=1, nrounds=10 \n",
      "+ Fold2: eta=0.005, max_depth=2, gamma=1, colsample_bytree=0.3, min_child_weight=1, nrounds=10 \n",
      "- Fold2: eta=0.005, max_depth=2, gamma=1, colsample_bytree=0.3, min_child_weight=1, nrounds=10 \n",
      "+ Fold2: eta=0.005, max_depth=3, gamma=1, colsample_bytree=0.3, min_child_weight=1, nrounds=10 \n",
      "- Fold2: eta=0.005, max_depth=3, gamma=1, colsample_bytree=0.3, min_child_weight=1, nrounds=10 \n",
      "+ Fold2: eta=0.005, max_depth=4, gamma=1, colsample_bytree=0.3, min_child_weight=1, nrounds=10 \n",
      "- Fold2: eta=0.005, max_depth=4, gamma=1, colsample_bytree=0.3, min_child_weight=1, nrounds=10 \n",
      "+ Fold2: eta=0.005, max_depth=5, gamma=1, colsample_bytree=0.3, min_child_weight=1, nrounds=10 \n",
      "- Fold2: eta=0.005, max_depth=5, gamma=1, colsample_bytree=0.3, min_child_weight=1, nrounds=10 \n",
      "+ Fold2: eta=0.010, max_depth=2, gamma=1, colsample_bytree=0.3, min_child_weight=1, nrounds=10 \n",
      "- Fold2: eta=0.010, max_depth=2, gamma=1, colsample_bytree=0.3, min_child_weight=1, nrounds=10 \n",
      "+ Fold2: eta=0.010, max_depth=3, gamma=1, colsample_bytree=0.3, min_child_weight=1, nrounds=10 \n",
      "- Fold2: eta=0.010, max_depth=3, gamma=1, colsample_bytree=0.3, min_child_weight=1, nrounds=10 \n",
      "+ Fold2: eta=0.010, max_depth=4, gamma=1, colsample_bytree=0.3, min_child_weight=1, nrounds=10 \n",
      "- Fold2: eta=0.010, max_depth=4, gamma=1, colsample_bytree=0.3, min_child_weight=1, nrounds=10 \n",
      "+ Fold2: eta=0.010, max_depth=5, gamma=1, colsample_bytree=0.3, min_child_weight=1, nrounds=10 \n",
      "- Fold2: eta=0.010, max_depth=5, gamma=1, colsample_bytree=0.3, min_child_weight=1, nrounds=10 \n",
      "+ Fold3: eta=0.001, max_depth=2, gamma=1, colsample_bytree=0.3, min_child_weight=1, nrounds=10 \n",
      "- Fold3: eta=0.001, max_depth=2, gamma=1, colsample_bytree=0.3, min_child_weight=1, nrounds=10 \n",
      "+ Fold3: eta=0.001, max_depth=3, gamma=1, colsample_bytree=0.3, min_child_weight=1, nrounds=10 \n",
      "- Fold3: eta=0.001, max_depth=3, gamma=1, colsample_bytree=0.3, min_child_weight=1, nrounds=10 \n",
      "+ Fold3: eta=0.001, max_depth=4, gamma=1, colsample_bytree=0.3, min_child_weight=1, nrounds=10 \n",
      "- Fold3: eta=0.001, max_depth=4, gamma=1, colsample_bytree=0.3, min_child_weight=1, nrounds=10 \n",
      "+ Fold3: eta=0.001, max_depth=5, gamma=1, colsample_bytree=0.3, min_child_weight=1, nrounds=10 \n",
      "- Fold3: eta=0.001, max_depth=5, gamma=1, colsample_bytree=0.3, min_child_weight=1, nrounds=10 \n",
      "+ Fold3: eta=0.005, max_depth=2, gamma=1, colsample_bytree=0.3, min_child_weight=1, nrounds=10 \n",
      "- Fold3: eta=0.005, max_depth=2, gamma=1, colsample_bytree=0.3, min_child_weight=1, nrounds=10 \n",
      "+ Fold3: eta=0.005, max_depth=3, gamma=1, colsample_bytree=0.3, min_child_weight=1, nrounds=10 \n",
      "- Fold3: eta=0.005, max_depth=3, gamma=1, colsample_bytree=0.3, min_child_weight=1, nrounds=10 \n",
      "+ Fold3: eta=0.005, max_depth=4, gamma=1, colsample_bytree=0.3, min_child_weight=1, nrounds=10 \n",
      "- Fold3: eta=0.005, max_depth=4, gamma=1, colsample_bytree=0.3, min_child_weight=1, nrounds=10 \n",
      "+ Fold3: eta=0.005, max_depth=5, gamma=1, colsample_bytree=0.3, min_child_weight=1, nrounds=10 \n",
      "- Fold3: eta=0.005, max_depth=5, gamma=1, colsample_bytree=0.3, min_child_weight=1, nrounds=10 \n",
      "+ Fold3: eta=0.010, max_depth=2, gamma=1, colsample_bytree=0.3, min_child_weight=1, nrounds=10 \n",
      "- Fold3: eta=0.010, max_depth=2, gamma=1, colsample_bytree=0.3, min_child_weight=1, nrounds=10 \n",
      "+ Fold3: eta=0.010, max_depth=3, gamma=1, colsample_bytree=0.3, min_child_weight=1, nrounds=10 \n",
      "- Fold3: eta=0.010, max_depth=3, gamma=1, colsample_bytree=0.3, min_child_weight=1, nrounds=10 \n",
      "+ Fold3: eta=0.010, max_depth=4, gamma=1, colsample_bytree=0.3, min_child_weight=1, nrounds=10 \n",
      "- Fold3: eta=0.010, max_depth=4, gamma=1, colsample_bytree=0.3, min_child_weight=1, nrounds=10 \n",
      "+ Fold3: eta=0.010, max_depth=5, gamma=1, colsample_bytree=0.3, min_child_weight=1, nrounds=10 \n",
      "- Fold3: eta=0.010, max_depth=5, gamma=1, colsample_bytree=0.3, min_child_weight=1, nrounds=10 \n",
      "Aggregating results\n",
      "Selecting tuning parameters\n",
      "Fitting nrounds = 10, max_depth = 5, eta = 0.01, gamma = 1, colsample_bytree = 0.3, min_child_weight = 1 on full training set\n"
     ]
    }
   ],
   "source": [
    "# XGB requires labels to be numeric indexed at 0. \n",
    "y <- recode(labels,\"'NDF'=0; 'US'=1; 'other'=2; 'FR'=3; 'CA'=4; 'GB'=5; 'ES'=6; 'IT'=7; 'PT'=8; 'NL'=9; 'DE'=10; 'AU'=11\")\n",
    "\n",
    "# train xgboost\n",
    "# \"Kappa\" metric used for evaluation\n",
    " xgb = train(\n",
    "     x = sparse_tr,\n",
    "     y = y[set == \"train\"],\n",
    "     trControl = xgb_trcontrol_1,\n",
    "     tuneGrid = xgb_grid_1,\n",
    "     method = \"xgbTree\", \n",
    "     metric = \"merror\"\n",
    " )\n",
    "\n",
    "model <- xgb$finalModel"
   ]
  },
  {
   "cell_type": "code",
   "execution_count": 11,
   "metadata": {
    "collapsed": false
   },
   "outputs": [],
   "source": [
    "# Plots performance metrics if caret was used \n",
    "if(COMPUTE_IMPORTANCE){\n",
    "# Evaluating importance of features to the model\n",
    "importance <- xgb.importance(sparse_tr@Dimnames[[2]], \n",
    "                             model = model, \n",
    "                             data = sparse_tr, \n",
    "                             label = labels[set == \"train\"]\n",
    "                            )\n",
    "xgb.plot.importance(importance_matrix = head(importance,30))\n",
    "}"
   ]
  },
  {
   "cell_type": "markdown",
   "metadata": {},
   "source": [
    "## Submission\n",
    "https://www.kaggle.com/indradenbakker/airbnb-recruiting-new-user-bookings/rscript-0-86547/discussion  \n",
    "As per the example script above this submission file currently just takes the top 5 predictions in order as its submission file."
   ]
  },
  {
   "cell_type": "code",
   "execution_count": 19,
   "metadata": {
    "collapsed": false
   },
   "outputs": [
    {
     "name": "stdout",
     "output_type": "stream",
     "text": [
      "List of 6\n",
      " $ handle     :Class 'xgb.Booster.handle' <externalptr> \n",
      " $ raw        : raw [1:8256] 00 00 00 3f ...\n",
      " $ xNames     : chr [1:382] \"age_cln\" \"age_cln2\" \"age_bucket-1\" \"age_bucket0-4\" ...\n",
      " $ problemType: chr \"Regression\"\n",
      " $ tuneValue  :'data.frame':\t1 obs. of  6 variables:\n",
      "  ..$ nrounds         : num 10\n",
      "  ..$ max_depth       : num 5\n",
      "  ..$ eta             : num 0.01\n",
      "  ..$ gamma           : num 1\n",
      "  ..$ colsample_bytree: num 0.3\n",
      "  ..$ min_child_weight: num 1\n",
      " $ obsLevels  : logi NA\n",
      " - attr(*, \"class\")= chr \"xgb.Booster\"\n"
     ]
    }
   ],
   "source": [
    "str(model)\n",
    "#model <- xgb$finalModel"
   ]
  },
  {
   "cell_type": "code",
   "execution_count": 18,
   "metadata": {
    "collapsed": false
   },
   "outputs": [
    {
     "name": "stderr",
     "output_type": "stream",
     "text": [
      "Warning message:\n",
      "In matrix(pred_test, nrow = 12): data length [62096] is not a sub-multiple or multiple of the number of rows [12]"
     ]
    },
    {
     "ename": "ERROR",
     "evalue": "Error in data.frame(id = ids, country = as.vector(top5)): arguments imply differing number of rows: 310480, 25875\n",
     "output_type": "error",
     "traceback": [
      "Error in data.frame(id = ids, country = as.vector(top5)): arguments imply differing number of rows: 310480, 25875\n"
     ]
    },
    {
     "ename": "ERROR",
     "evalue": "Error in head(final$df, 20): object 'final' not found\n",
     "output_type": "error",
     "traceback": [
      "Error in head(final$df, 20): object 'final' not found\n"
     ]
    },
    {
     "ename": "ERROR",
     "evalue": "Error in head(final$file, 20): object 'final' not found\n",
     "output_type": "error",
     "traceback": [
      "Error in head(final$file, 20): object 'final' not found\n"
     ]
    }
   ],
   "source": [
    "# Generate predictions on competition test set. \n",
    "# compare prediction to results\n",
    "source(\"Generate_submission.R\")\n",
    "final <- submission(model, sparse_ts, df_all[set == \"test\", \"id\"], NAME)\n",
    "\n",
    "head(final$df,20)\n",
    "head(final$file,20)"
   ]
  }
 ],
 "metadata": {
  "kernelspec": {
   "display_name": "R",
   "language": "R",
   "name": "ir"
  },
  "language_info": {
   "codemirror_mode": "r",
   "file_extension": ".r",
   "mimetype": "text/x-r-source",
   "name": "R",
   "pygments_lexer": "r",
   "version": "3.2.4"
  }
 },
 "nbformat": 4,
 "nbformat_minor": 0
}
