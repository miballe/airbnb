{
 "cells": [
  {
   "cell_type": "markdown",
   "metadata": {},
   "source": [
    "# XGBoost\n",
    "\n",
    "* Performs xgboost on training data. \n",
    "* Iterates over parameters with cross validation\n",
    "* Currently ignoring date parameters due to large number of factors. Waiting for preprocessing steps to improve. \n",
    "* Warning: takes a long time to cross validate"
   ]
  },
  {
   "cell_type": "code",
   "execution_count": 1,
   "metadata": {
    "collapsed": false
   },
   "outputs": [
    {
     "name": "stderr",
     "output_type": "stream",
     "text": [
      "\n",
      "Attaching package: 'dplyr'\n",
      "\n",
      "The following object is masked from 'package:xgboost':\n",
      "\n",
      "    slice\n",
      "\n",
      "The following objects are masked from 'package:stats':\n",
      "\n",
      "    filter, lag\n",
      "\n",
      "The following objects are masked from 'package:base':\n",
      "\n",
      "    intersect, setdiff, setequal, union\n",
      "\n",
      "\n",
      "Attaching package: 'data.table'\n",
      "\n",
      "The following objects are masked from 'package:dplyr':\n",
      "\n",
      "    between, last\n",
      "\n",
      "Loading required package: lattice\n",
      "Loading required package: ggplot2\n"
     ]
    }
   ],
   "source": [
    "# Libraries\n",
    "library(xgboost)\n",
    "library(dplyr)\n",
    "library(Matrix)\n",
    "library(data.table)\n",
    "library(Ckmeans.1d.dp)\n",
    "library(e1071)\n",
    "library(caret)\n",
    "\n",
    "# Set Seed\n",
    "set.seed(1066)\n",
    "\n",
    "# Name of Run\n",
    "NAME <- \"_eg_1\""
   ]
  },
  {
   "cell_type": "markdown",
   "metadata": {},
   "source": [
    "** Currently remove date features because of large number of factors **  "
   ]
  },
  {
   "cell_type": "code",
   "execution_count": 2,
   "metadata": {
    "collapsed": false,
    "scrolled": true
   },
   "outputs": [],
   "source": [
    "# Read data\n",
    "# remove id and date_first_booking as they are not relevant\n",
    "# CURRENTLY REMOVES DATE PARAMETERS AS WELL\n",
    "dat_raw <- readRDS(\"../Data/users_PP.RDS\") %>%\n",
    "    na.omit()\n",
    "\n",
    "dat <- dat_raw %>%\n",
    "    select(-c(id,dataset,age_cln,age_cln2)) %>%\n",
    "    data.table(keep.rownames = F)"
   ]
  },
  {
   "cell_type": "code",
   "execution_count": 3,
   "metadata": {
    "collapsed": false
   },
   "outputs": [],
   "source": [
    "# One-hot encoding  \n",
    "# https://cran.r-project.org/web/packages/xgboost/vignettes/discoverYourData.html\n",
    "sparse_dat <- sparse.model.matrix(country_destination ~ . -1, data = dat)\n",
    "\n",
    "# Find the training set\n",
    "sparse_tr <- sparse_dat[dat_raw$dataset == \"train\",]\n",
    "tr <- dat[dat_raw$dataset == \"train\",]"
   ]
  },
  {
   "cell_type": "code",
   "execution_count": 4,
   "metadata": {
    "collapsed": false
   },
   "outputs": [
    {
     "name": "stdout",
     "output_type": "stream",
     "text": [
      "[0]\ttrain-merror:0.464063\n",
      "[1]\ttrain-merror:0.459373\n",
      "[2]\ttrain-merror:0.454256\n",
      "[3]\ttrain-merror:0.451848\n",
      "[4]\ttrain-merror:0.449214\n",
      "[5]\ttrain-merror:0.448111\n",
      "[6]\ttrain-merror:0.447270\n",
      "[7]\ttrain-merror:0.446568\n",
      "[8]\ttrain-merror:0.446041\n",
      "[9]\ttrain-merror:0.445189\n",
      "[10]\ttrain-merror:0.444449\n",
      "[11]\ttrain-merror:0.443721\n",
      "[12]\ttrain-merror:0.443521\n",
      "[13]\ttrain-merror:0.442567\n",
      "[14]\ttrain-merror:0.442179\n",
      "[15]\ttrain-merror:0.440661\n",
      "[16]\ttrain-merror:0.439921\n",
      "[17]\ttrain-merror:0.439056\n",
      "[18]\ttrain-merror:0.438855\n",
      "[19]\ttrain-merror:0.437864\n",
      "[20]\ttrain-merror:0.437476\n",
      "[21]\ttrain-merror:0.436711\n",
      "[22]\ttrain-merror:0.435971\n",
      "[23]\ttrain-merror:0.435770\n",
      "[24]\ttrain-merror:0.435168\n"
     ]
    }
   ],
   "source": [
    "xgb <- xgboost(data = sparse_tr, \n",
    "               label = as.numeric(tr$country_destination) - 1, \n",
    "               eta = 0.1,\n",
    "               max_depth = 9, \n",
    "               nround=25, \n",
    "               subsample = 0.5,\n",
    "               colsample_bytree = 0.5,\n",
    "               eval_metric = \"merror\",\n",
    "               objective = \"multi:softprob\",\n",
    "               num_class = 12,\n",
    "               nthread = 3\n",
    ")"
   ]
  },
  {
   "cell_type": "code",
   "execution_count": 5,
   "metadata": {
    "collapsed": false
   },
   "outputs": [],
   "source": [
    "saveRDS(xgb, paste0(\"./Models/xgb_model\", NAME, \".RDS\"))"
   ]
  },
  {
   "cell_type": "markdown",
   "metadata": {},
   "source": [
    "# Predictions\n",
    "We use the \"predictions\" function to evaluate our model on both the training set and set set. We see from the below that the probabilities lead to NDF and US always being predicted. The accuracy at this point is also quite low. "
   ]
  },
  {
   "cell_type": "code",
   "execution_count": 6,
   "metadata": {
    "collapsed": false
   },
   "outputs": [],
   "source": [
    "#dataset <- dat_raw$dataset\n",
    "#target <- dat$country_destination\n",
    "#save(xgb, sparse_dat, dataset, target, file = \"test.RData\")"
   ]
  },
  {
   "cell_type": "code",
   "execution_count": 7,
   "metadata": {
    "collapsed": false
   },
   "outputs": [
    {
     "data": {
      "text/plain": [
       ".\n",
       "  NDF other    US \n",
       "48703     1 31033 "
      ]
     },
     "execution_count": 7,
     "metadata": {},
     "output_type": "execute_result"
    },
    {
     "data": {
      "text/html": [
       "0.56483188482135"
      ],
      "text/latex": [
       "0.56483188482135"
      ],
      "text/markdown": [
       "0.56483188482135"
      ],
      "text/plain": [
       "[1] 0.5648319"
      ]
     },
     "execution_count": 7,
     "metadata": {},
     "output_type": "execute_result"
    },
    {
     "data": {
      "text/plain": [
       ".\n",
       "  NDF    US \n",
       "16064 10301 "
      ]
     },
     "execution_count": 7,
     "metadata": {},
     "output_type": "execute_result"
    },
    {
     "data": {
      "text/html": [
       "0.540489285036981"
      ],
      "text/latex": [
       "0.540489285036981"
      ],
      "text/markdown": [
       "0.540489285036981"
      ],
      "text/plain": [
       "[1] 0.5404893"
      ]
     },
     "execution_count": 7,
     "metadata": {},
     "output_type": "execute_result"
    }
   ],
   "source": [
    "source(\"Predictions.R\")\n",
    "pred <- predictions(xgb, sparse_dat, dat_raw$dataset, dat$country_destination)\n",
    "\n",
    "pred$pred_tr %>% table()\n",
    "pred$acc_tr\n",
    "\n",
    "pred$pred_ts %>% table()\n",
    "pred$acc_ts"
   ]
  },
  {
   "cell_type": "markdown",
   "metadata": {},
   "source": [
    "## Submission\n",
    "https://www.kaggle.com/indradenbakker/airbnb-recruiting-new-user-bookings/rscript-0-86547/discussion  \n",
    "As per the example script above this submission file currently just takes the top 5 predictions in order as its submission file.\n",
    "Submission page: https://www.kaggle.com/c/airbnb-recruiting-new-user-bookings/submissions/attach"
   ]
  },
  {
   "cell_type": "code",
   "execution_count": 8,
   "metadata": {
    "collapsed": false
   },
   "outputs": [
    {
     "name": "stdout",
     "output_type": "stream",
     "text": [
      "Formal class 'dgCMatrix' [package \"Matrix\"] with 6 slots\n",
      "  ..@ i       : int [1:712680] 0 1 2 3 4 5 6 7 8 9 ...\n",
      "  ..@ p       : int [1:166] 0 27767 27767 27949 28585 32308 39767 45598 49050 51079 ...\n",
      "  ..@ Dim     : int [1:2] 27767 165\n",
      "  ..@ Dimnames:List of 2\n",
      "  .. ..$ : chr [1:27767] \"106103\" \"106104\" \"106105\" \"106106\" ...\n",
      "  .. ..$ : chr [1:165] \"X\" \"age_bucket0-4\" \"age_bucket100+\" \"age_bucket15-19\" ...\n",
      "  ..@ x       : num [1:712680] 213452 213457 213458 213463 213464 ...\n",
      "  ..@ factors : list()\n"
     ]
    }
   ],
   "source": [
    "# Generate predictions on competition test set. \n",
    "# compare prediction to results\n",
    "source(\"Generate_submission.R\")\n",
    "sparse_test <- sparse_dat[dat_raw$dataset == \"test_external\",]\n",
    "id <- as.character(dat_raw[dat_raw$dataset == \"test_external\", \"id\"])\n",
    "\n",
    "str(sparse_test)\n",
    "final <- submission(xgb, sparse_test, id, paste0(\"xgb\", NAME))"
   ]
  },
  {
   "cell_type": "code",
   "execution_count": 9,
   "metadata": {
    "collapsed": false
   },
   "outputs": [
    {
     "name": "stdout",
     "output_type": "stream",
     "text": [
      "List of 2\n",
      " $ df  :'data.frame':\t27767 obs. of  6 variables:\n",
      "  ..$ V1: Factor w/ 2 levels \"AU\",\"IT\": 2 2 1 1 2 1 1 2 1 2 ...\n",
      "  .. ..- attr(*, \"names\")= chr [1:27767] \"V1\" \"V2\" \"V3\" \"V4\" ...\n",
      "  ..$ V2: Factor w/ 5 levels \"AU\",\"CA\",\"FR\",..: 1 1 4 4 1 4 4 1 4 1 ...\n",
      "  .. ..- attr(*, \"names\")= chr [1:27767] \"V1\" \"V2\" \"V3\" \"V4\" ...\n",
      "  ..$ V3: Factor w/ 7 levels \"AU\",\"CA\",\"ES\",..: 4 6 6 6 4 6 6 4 6 4 ...\n",
      "  .. ..- attr(*, \"names\")= chr [1:27767] \"V1\" \"V2\" \"V3\" \"V4\" ...\n",
      "  ..$ V4: Factor w/ 8 levels \"AU\",\"CA\",\"ES\",..: 6 2 2 4 2 2 2 6 4 6 ...\n",
      "  .. ..- attr(*, \"names\")= chr [1:27767] \"V1\" \"V2\" \"V3\" \"V4\" ...\n",
      "  ..$ V5: Factor w/ 9 levels \"AU\",\"CA\",\"ES\",..: 2 4 4 2 5 4 4 2 2 2 ...\n",
      "  .. ..- attr(*, \"names\")= chr [1:27767] \"V1\" \"V2\" \"V3\" \"V4\" ...\n",
      "  ..$ id: chr [1:27767] \"5uwns89zht\" \"szx28ujmhf\" \"guenkfjcbq\" \"fyomoivygn\" ...\n",
      " $ file:'data.frame':\t138835 obs. of  2 variables:\n",
      "  ..$ id     : Factor w/ 27767 levels \"0031awlkjq\",\"0057snrdpu\",..: 4446 4446 4446 4446 4446 22340 22340 22340 22340 22340 ...\n",
      "  ..$ country: Factor w/ 10 levels \"AU\",\"CA\",\"ES\",..: 6 1 4 7 2 6 1 7 2 4 ...\n"
     ]
    }
   ],
   "source": [
    "name <- paste0(\"xgb_\", NAME)\n",
    "save(xgb, sparse_test, id, name, file = \"test.RData\")\n",
    "str(final)"
   ]
  },
  {
   "cell_type": "code",
   "execution_count": 10,
   "metadata": {
    "collapsed": false
   },
   "outputs": [
    {
     "data": {
      "text/html": [
       "<table>\n",
       "<thead><tr><th></th><th scope=col>id</th><th scope=col>country</th></tr></thead>\n",
       "<tbody>\n",
       "\t<tr><th scope=row>1</th><td>5uwns89zht</td><td>IT</td></tr>\n",
       "\t<tr><th scope=row>2</th><td>5uwns89zht</td><td>AU</td></tr>\n",
       "\t<tr><th scope=row>3</th><td>5uwns89zht</td><td>FR</td></tr>\n",
       "\t<tr><th scope=row>4</th><td>5uwns89zht</td><td>NL</td></tr>\n",
       "\t<tr><th scope=row>5</th><td>5uwns89zht</td><td>CA</td></tr>\n",
       "\t<tr><th scope=row>6</th><td>szx28ujmhf</td><td>IT</td></tr>\n",
       "</tbody>\n",
       "</table>\n"
      ],
      "text/latex": [
       "\\begin{tabular}{r|ll}\n",
       "  & id & country\\\\\n",
       "\\hline\n",
       "\t1 & 5uwns89zht & IT\\\\\n",
       "\t2 & 5uwns89zht & AU\\\\\n",
       "\t3 & 5uwns89zht & FR\\\\\n",
       "\t4 & 5uwns89zht & NL\\\\\n",
       "\t5 & 5uwns89zht & CA\\\\\n",
       "\t6 & szx28ujmhf & IT\\\\\n",
       "\\end{tabular}\n"
      ],
      "text/plain": [
       "          id country\n",
       "1 5uwns89zht      IT\n",
       "2 5uwns89zht      AU\n",
       "3 5uwns89zht      FR\n",
       "4 5uwns89zht      NL\n",
       "5 5uwns89zht      CA\n",
       "6 szx28ujmhf      IT"
      ]
     },
     "execution_count": 10,
     "metadata": {},
     "output_type": "execute_result"
    }
   ],
   "source": [
    "head(final$file)"
   ]
  }
 ],
 "metadata": {
  "kernelspec": {
   "display_name": "R",
   "language": "R",
   "name": "ir"
  },
  "language_info": {
   "codemirror_mode": "r",
   "file_extension": ".r",
   "mimetype": "text/x-r-source",
   "name": "R",
   "pygments_lexer": "r",
   "version": "3.2.4"
  }
 },
 "nbformat": 4,
 "nbformat_minor": 0
}
