{
 "cells": [
  {
   "cell_type": "markdown",
   "metadata": {},
   "source": [
    "# XGBoost\n",
    "\n",
    "* Performs xgboost on training data. \n",
    "* Performs on a prebuilt set of parameters to quickly iterate and test for improvements. "
   ]
  },
  {
   "cell_type": "code",
   "execution_count": 1,
   "metadata": {
    "collapsed": false
   },
   "outputs": [
    {
     "name": "stderr",
     "output_type": "stream",
     "text": [
      "\n",
      "Attaching package: 'dplyr'\n",
      "\n",
      "The following object is masked from 'package:xgboost':\n",
      "\n",
      "    slice\n",
      "\n",
      "The following objects are masked from 'package:stats':\n",
      "\n",
      "    filter, lag\n",
      "\n",
      "The following objects are masked from 'package:base':\n",
      "\n",
      "    intersect, setdiff, setequal, union\n",
      "\n",
      "\n",
      "Attaching package: 'data.table'\n",
      "\n",
      "The following objects are masked from 'package:dplyr':\n",
      "\n",
      "    between, last\n",
      "\n",
      "Loading required package: lattice\n",
      "Loading required package: ggplot2\n"
     ]
    }
   ],
   "source": [
    "# Libraries\n",
    "library(xgboost)\n",
    "library(dplyr)\n",
    "library(Matrix)\n",
    "library(data.table)\n",
    "library(Ckmeans.1d.dp)\n",
    "library(e1071)\n",
    "library(caret)\n",
    "library(car)\n",
    "library(readr)\n",
    "library(stringr)\n",
    "\n",
    "# Set Seed\n",
    "set.seed(1066)\n",
    "\n",
    "NAME <- \"BASIC_1\" # Name of Run (used for save file names)\n",
    "DATAPATH <- \"../Data/users_FE.RDa\" # Path to preprocessed data\n",
    "COMPUTE_IMPORTANCE <- FALSE # Toggle computing importance or not because it is computationally expensive"
   ]
  },
  {
   "cell_type": "markdown",
   "metadata": {},
   "source": [
    "** Currently remove date features because of large number of factors **  "
   ]
  },
  {
   "cell_type": "code",
   "execution_count": 2,
   "metadata": {
    "collapsed": false
   },
   "outputs": [],
   "source": [
    "# load data\n",
    "df_train = read_csv(\"../Data/train_users_2.csv\")\n",
    "df_test = read_csv(\"../Data/test_users.csv\")\n",
    "labels = df_train['country_destination']\n",
    "df_train = df_train[-grep('country_destination', colnames(df_train))]\n",
    "\n",
    "# combine train and test data\n",
    "df_all = rbind(df_train,df_test)\n",
    "# remove date_first_booking\n",
    "df_all = df_all[-c(which(colnames(df_all) %in% c('date_first_booking')))]\n",
    "# replace missing values\n",
    "df_all[is.na(df_all)] <- -1\n",
    "\n",
    "# split date_account_created in year, month and day\n",
    "dac = as.data.frame(str_split_fixed(df_all$date_account_created, '-', 3))\n",
    "df_all['dac_year'] = dac[,1]\n",
    "df_all['dac_month'] = dac[,2]\n",
    "df_all['dac_day'] = dac[,3]\n",
    "df_all = df_all[,-c(which(colnames(df_all) %in% c('date_account_created')))]\n",
    "\n",
    "# split timestamp_first_active in year, month and day\n",
    "df_all['tfa_year'] = substring(as.character(df_all$timestamp_first_active), 1, 4)\n",
    "df_all['tfa_month'] = substring(as.character(df_all$timestamp_first_active), 5, 6)\n",
    "df_all['tfa_day'] = substring(as.character(df_all$timestamp_first_active), 7, 8)\n",
    "df_all = df_all[,-c(which(colnames(df_all) %in% c('timestamp_first_active')))]\n",
    "\n",
    "# clean Age by removing values\n",
    "df_all[df_all$age < 14 | df_all$age > 100,'age'] <- -1"
   ]
  },
  {
   "cell_type": "code",
   "execution_count": 16,
   "metadata": {
    "collapsed": false
   },
   "outputs": [
    {
     "data": {
      "text/html": [
       "<ol class=list-inline>\n",
       "\t<li>275547</li>\n",
       "\t<li>31</li>\n",
       "</ol>\n"
      ],
      "text/latex": [
       "\\begin{enumerate*}\n",
       "\\item 275547\n",
       "\\item 31\n",
       "\\end{enumerate*}\n"
      ],
      "text/markdown": [
       "1. 275547\n",
       "2. 31\n",
       "\n",
       "\n"
      ],
      "text/plain": [
       "[1] 275547     31"
      ]
     },
     "execution_count": 16,
     "metadata": {},
     "output_type": "execute_result"
    },
    {
     "data": {
      "text/html": [
       "<ol class=list-inline>\n",
       "\t<li>275547</li>\n",
       "\t<li>35</li>\n",
       "</ol>\n"
      ],
      "text/latex": [
       "\\begin{enumerate*}\n",
       "\\item 275547\n",
       "\\item 35\n",
       "\\end{enumerate*}\n"
      ],
      "text/markdown": [
       "1. 275547\n",
       "2. 35\n",
       "\n",
       "\n"
      ],
      "text/plain": [
       "[1] 275547     35"
      ]
     },
     "execution_count": 16,
     "metadata": {},
     "output_type": "execute_result"
    }
   ],
   "source": [
    "df_raw <- read_csv(\"../Data/users_PP.csv\") \n",
    "labels <- df_raw$country_destination\n",
    "\n",
    "df_train <- filter(df_raw, dataset == \"train\")\n",
    "df_test <- filter(df_raw, dataset == \"test\")\n",
    "\n",
    "df_all <- df_raw %>% select(-X, - dataset, -age_cln, -age_cln2)\n",
    "\n",
    "dim(df_all)\n",
    "dim(df_raw)"
   ]
  },
  {
   "cell_type": "code",
   "execution_count": 17,
   "metadata": {
    "collapsed": false
   },
   "outputs": [
    {
     "name": "stderr",
     "output_type": "stream",
     "text": [
      "Warning message:\n",
      "In sparse.model.matrix(country_destination ~ . - 1, data = df_all): variable 'country_destination' converted to a factorWarning message:\n",
      "In sparse.model.matrix(country_destination ~ . - 1, data = df_all): variable 'id' converted to a factorWarning message:\n",
      "In sparse.model.matrix(country_destination ~ . - 1, data = df_all): variable 'age_bucket' converted to a factorWarning message:\n",
      "In sparse.model.matrix(country_destination ~ . - 1, data = df_all): variable 'gender' converted to a factorWarning message:\n",
      "In sparse.model.matrix(country_destination ~ . - 1, data = df_all): variable 'signup_method' converted to a factorWarning message:\n",
      "In sparse.model.matrix(country_destination ~ . - 1, data = df_all): variable 'language' converted to a factorWarning message:\n",
      "In sparse.model.matrix(country_destination ~ . - 1, data = df_all): variable 'affiliate_channel' converted to a factorWarning message:\n",
      "In sparse.model.matrix(country_destination ~ . - 1, data = df_all): variable 'affiliate_provider' converted to a factorWarning message:\n",
      "In sparse.model.matrix(country_destination ~ . - 1, data = df_all): variable 'first_affiliate_tracked' converted to a factorWarning message:\n",
      "In sparse.model.matrix(country_destination ~ . - 1, data = df_all): variable 'signup_app' converted to a factorWarning message:\n",
      "In sparse.model.matrix(country_destination ~ . - 1, data = df_all): variable 'first_device_type' converted to a factorWarning message:\n",
      "In sparse.model.matrix(country_destination ~ . - 1, data = df_all): variable 'first_browser' converted to a factor"
     ]
    },
    {
     "data": {
      "text/html": [
       "<ol class=list-inline>\n",
       "\t<li>133869</li>\n",
       "\t<li>134017</li>\n",
       "</ol>\n"
      ],
      "text/latex": [
       "\\begin{enumerate*}\n",
       "\\item 133869\n",
       "\\item 134017\n",
       "\\end{enumerate*}\n"
      ],
      "text/markdown": [
       "1. 133869\n",
       "2. 134017\n",
       "\n",
       "\n"
      ],
      "text/plain": [
       "[1] 133869 134017"
      ]
     },
     "execution_count": 17,
     "metadata": {},
     "output_type": "execute_result"
    },
    {
     "ename": "ERROR",
     "evalue": "Error in intI(i, n = x@Dim[1], dn[[1]], give.dn = FALSE): logical subscript too long (275547, should be 133869)\n",
     "output_type": "error",
     "traceback": [
      "Error in intI(i, n = x@Dim[1], dn[[1]], give.dn = FALSE): logical subscript too long (275547, should be 133869)\n"
     ]
    },
    {
     "ename": "ERROR",
     "evalue": "Error in intI(i, n = x@Dim[1], dn[[1]], give.dn = FALSE): logical subscript too long (275547, should be 133869)\n",
     "output_type": "error",
     "traceback": [
      "Error in intI(i, n = x@Dim[1], dn[[1]], give.dn = FALSE): logical subscript too long (275547, should be 133869)\n"
     ]
    }
   ],
   "source": [
    "# One-hot encoding  \n",
    "# https://cran.r-project.org/web/packages/xgboost/vignettes/discoverYourData.html\n",
    "sparse_dat <- sparse.model.matrix(country_destination ~ . -1, data = df_all)\n",
    "\n",
    "dim(sparse_dat)\n",
    "# Find the training set\n",
    "sparse_tr <- sparse_dat[df_all$id %in% df_train$id,]\n",
    "sparse_ts <- sparse_dat[df_all$id %in% df_test$id,]"
   ]
  },
  {
   "cell_type": "code",
   "execution_count": 4,
   "metadata": {
    "collapsed": false,
    "scrolled": true
   },
   "outputs": [
    {
     "name": "stdout",
     "output_type": "stream",
     "text": [
      "[0]\ttrain-merror:0.410670\n",
      "[1]\ttrain-merror:0.383802\n",
      "[2]\ttrain-merror:0.389298\n",
      "[3]\ttrain-merror:0.384205\n",
      "[4]\ttrain-merror:0.382744\n",
      "[5]\ttrain-merror:0.383067\n",
      "[6]\ttrain-merror:0.381362\n",
      "[7]\ttrain-merror:0.378101\n",
      "[8]\ttrain-merror:0.374957\n",
      "[9]\ttrain-merror:0.373083\n",
      "[10]\ttrain-merror:0.371870\n",
      "[11]\ttrain-merror:0.369794\n",
      "[12]\ttrain-merror:0.366529\n",
      "[13]\ttrain-merror:0.365808\n",
      "[14]\ttrain-merror:0.364416\n",
      "[15]\ttrain-merror:0.362308\n",
      "[16]\ttrain-merror:0.361947\n",
      "[17]\ttrain-merror:0.361137\n",
      "[18]\ttrain-merror:0.360832\n",
      "[19]\ttrain-merror:0.360237\n",
      "[20]\ttrain-merror:0.360298\n",
      "[21]\ttrain-merror:0.359535\n",
      "[22]\ttrain-merror:0.358883\n",
      "[23]\ttrain-merror:0.357979\n",
      "[24]\ttrain-merror:0.357707\n"
     ]
    }
   ],
   "source": [
    "# split train and test\n",
    "y <- recode(labels$country_destination,\n",
    "            \"'NDF'=0; 'US'=1; 'other'=2; 'FR'=3; 'CA'=4; 'GB'=5; 'ES'=6; 'IT'=7; 'PT'=8; 'NL'=9; 'DE'=10; 'AU'=11\")\n",
    "\n",
    "# train xgboost\n",
    "xgb <- xgboost(data = sparse_tr, #data.matrix(X[,-1]), \n",
    "               label = y, \n",
    "               eta = 0.1,\n",
    "               max_depth = 9, \n",
    "               nround=25, \n",
    "               subsample = 0.5,\n",
    "               colsample_bytree = 0.5,\n",
    "               eval_metric = \"merror\",\n",
    "               objective = \"multi:softprob\",\n",
    "               num_class = 12,\n",
    "               nthread = 3\n",
    ")"
   ]
  },
  {
   "cell_type": "markdown",
   "metadata": {},
   "source": [
    "## Submission\n",
    "https://www.kaggle.com/indradenbakker/airbnb-recruiting-new-user-bookings/rscript-0-86547/discussion  \n",
    "As per the example script above this submission file currently just takes the top 5 predictions in order as its submission file."
   ]
  },
  {
   "cell_type": "code",
   "execution_count": 5,
   "metadata": {
    "collapsed": false
   },
   "outputs": [
    {
     "data": {
      "text/html": [
       "<table>\n",
       "<thead><tr><th></th><th scope=col>V1</th><th scope=col>V2</th><th scope=col>V3</th><th scope=col>V4</th><th scope=col>V5</th><th scope=col>id</th></tr></thead>\n",
       "<tbody>\n",
       "\t<tr><th scope=row>V1</th><td>NDF</td><td>US</td><td>other</td><td>ES</td><td>FR</td><td>5uwns89zht</td></tr>\n",
       "\t<tr><th scope=row>V2</th><td>NDF</td><td>US</td><td>other</td><td>FR</td><td>IT</td><td>jtl0dijy2j</td></tr>\n",
       "\t<tr><th scope=row>V3</th><td>NDF</td><td>US</td><td>other</td><td>FR</td><td>IT</td><td>xx0ulgorjt</td></tr>\n",
       "\t<tr><th scope=row>V4</th><td>NDF</td><td>US</td><td>other</td><td>FR</td><td>IT</td><td>6c6puo6ix0</td></tr>\n",
       "\t<tr><th scope=row>V5</th><td>NDF</td><td>US</td><td>other</td><td>FR</td><td>IT</td><td>czqhjk3yfe</td></tr>\n",
       "\t<tr><th scope=row>V6</th><td>US</td><td>NDF</td><td>other</td><td>FR</td><td>IT</td><td>szx28ujmhf</td></tr>\n",
       "\t<tr><th scope=row>V7</th><td>NDF</td><td>US</td><td>other</td><td>FR</td><td>ES</td><td>guenkfjcbq</td></tr>\n",
       "\t<tr><th scope=row>V8</th><td>NDF</td><td>US</td><td>other</td><td>FR</td><td>IT</td><td>tkpq0mlugk</td></tr>\n",
       "\t<tr><th scope=row>V9</th><td>NDF</td><td>US</td><td>other</td><td>FR</td><td>IT</td><td>3xtgd5p9dn</td></tr>\n",
       "\t<tr><th scope=row>V10</th><td>NDF</td><td>US</td><td>other</td><td>FR</td><td>IT</td><td>md9aj22l5a</td></tr>\n",
       "\t<tr><th scope=row>V11</th><td>NDF</td><td>US</td><td>other</td><td>FR</td><td>IT</td><td>gg3eswjxdf</td></tr>\n",
       "\t<tr><th scope=row>V12</th><td>US</td><td>NDF</td><td>other</td><td>ES</td><td>FR</td><td>fyomoivygn</td></tr>\n",
       "\t<tr><th scope=row>V13</th><td>NDF</td><td>US</td><td>other</td><td>ES</td><td>FR</td><td>iq4kkd5oan</td></tr>\n",
       "\t<tr><th scope=row>V14</th><td>NDF</td><td>US</td><td>other</td><td>FR</td><td>IT</td><td>6k1xls6x5j</td></tr>\n",
       "\t<tr><th scope=row>V15</th><td>NDF</td><td>US</td><td>other</td><td>FR</td><td>GB</td><td>jodmb2ok1f</td></tr>\n",
       "\t<tr><th scope=row>V16</th><td>US</td><td>NDF</td><td>other</td><td>FR</td><td>IT</td><td>eq6fy0m4vc</td></tr>\n",
       "\t<tr><th scope=row>V17</th><td>NDF</td><td>US</td><td>other</td><td>FR</td><td>IT</td><td>yq4i7nfh6l</td></tr>\n",
       "\t<tr><th scope=row>V18</th><td>US</td><td>NDF</td><td>other</td><td>FR</td><td>IT</td><td>q5pibqdous</td></tr>\n",
       "\t<tr><th scope=row>V19</th><td>US</td><td>NDF</td><td>other</td><td>FR</td><td>IT</td><td>i0sc6d3j8s</td></tr>\n",
       "\t<tr><th scope=row>V20</th><td>NDF</td><td>US</td><td>other</td><td>FR</td><td>ES</td><td>br5mcrsqzn</td></tr>\n",
       "</tbody>\n",
       "</table>\n"
      ],
      "text/latex": [
       "\\begin{tabular}{r|llllll}\n",
       "  & V1 & V2 & V3 & V4 & V5 & id\\\\\n",
       "\\hline\n",
       "\tV1 & NDF & US & other & ES & FR & 5uwns89zht\\\\\n",
       "\tV2 & NDF & US & other & FR & IT & jtl0dijy2j\\\\\n",
       "\tV3 & NDF & US & other & FR & IT & xx0ulgorjt\\\\\n",
       "\tV4 & NDF & US & other & FR & IT & 6c6puo6ix0\\\\\n",
       "\tV5 & NDF & US & other & FR & IT & czqhjk3yfe\\\\\n",
       "\tV6 & US & NDF & other & FR & IT & szx28ujmhf\\\\\n",
       "\tV7 & NDF & US & other & FR & ES & guenkfjcbq\\\\\n",
       "\tV8 & NDF & US & other & FR & IT & tkpq0mlugk\\\\\n",
       "\tV9 & NDF & US & other & FR & IT & 3xtgd5p9dn\\\\\n",
       "\tV10 & NDF & US & other & FR & IT & md9aj22l5a\\\\\n",
       "\tV11 & NDF & US & other & FR & IT & gg3eswjxdf\\\\\n",
       "\tV12 & US & NDF & other & ES & FR & fyomoivygn\\\\\n",
       "\tV13 & NDF & US & other & ES & FR & iq4kkd5oan\\\\\n",
       "\tV14 & NDF & US & other & FR & IT & 6k1xls6x5j\\\\\n",
       "\tV15 & NDF & US & other & FR & GB & jodmb2ok1f\\\\\n",
       "\tV16 & US & NDF & other & FR & IT & eq6fy0m4vc\\\\\n",
       "\tV17 & NDF & US & other & FR & IT & yq4i7nfh6l\\\\\n",
       "\tV18 & US & NDF & other & FR & IT & q5pibqdous\\\\\n",
       "\tV19 & US & NDF & other & FR & IT & i0sc6d3j8s\\\\\n",
       "\tV20 & NDF & US & other & FR & ES & br5mcrsqzn\\\\\n",
       "\\end{tabular}\n"
      ],
      "text/plain": [
       "     V1  V2    V3 V4 V5         id\n",
       "V1  NDF  US other ES FR 5uwns89zht\n",
       "V2  NDF  US other FR IT jtl0dijy2j\n",
       "V3  NDF  US other FR IT xx0ulgorjt\n",
       "V4  NDF  US other FR IT 6c6puo6ix0\n",
       "V5  NDF  US other FR IT czqhjk3yfe\n",
       "V6   US NDF other FR IT szx28ujmhf\n",
       "V7  NDF  US other FR ES guenkfjcbq\n",
       "V8  NDF  US other FR IT tkpq0mlugk\n",
       "V9  NDF  US other FR IT 3xtgd5p9dn\n",
       "V10 NDF  US other FR IT md9aj22l5a\n",
       "V11 NDF  US other FR IT gg3eswjxdf\n",
       "V12  US NDF other ES FR fyomoivygn\n",
       "V13 NDF  US other ES FR iq4kkd5oan\n",
       "V14 NDF  US other FR IT 6k1xls6x5j\n",
       "V15 NDF  US other FR GB jodmb2ok1f\n",
       "V16  US NDF other FR IT eq6fy0m4vc\n",
       "V17 NDF  US other FR IT yq4i7nfh6l\n",
       "V18  US NDF other FR IT q5pibqdous\n",
       "V19  US NDF other FR IT i0sc6d3j8s\n",
       "V20 NDF  US other FR ES br5mcrsqzn"
      ]
     },
     "execution_count": 5,
     "metadata": {},
     "output_type": "execute_result"
    },
    {
     "data": {
      "text/html": [
       "<table>\n",
       "<thead><tr><th></th><th scope=col>id</th><th scope=col>country</th></tr></thead>\n",
       "<tbody>\n",
       "\t<tr><th scope=row>1</th><td>5uwns89zht</td><td>NDF</td></tr>\n",
       "\t<tr><th scope=row>2</th><td>5uwns89zht</td><td>US</td></tr>\n",
       "\t<tr><th scope=row>3</th><td>5uwns89zht</td><td>other</td></tr>\n",
       "\t<tr><th scope=row>4</th><td>5uwns89zht</td><td>ES</td></tr>\n",
       "\t<tr><th scope=row>5</th><td>5uwns89zht</td><td>FR</td></tr>\n",
       "\t<tr><th scope=row>6</th><td>jtl0dijy2j</td><td>NDF</td></tr>\n",
       "\t<tr><th scope=row>7</th><td>jtl0dijy2j</td><td>US</td></tr>\n",
       "\t<tr><th scope=row>8</th><td>jtl0dijy2j</td><td>other</td></tr>\n",
       "\t<tr><th scope=row>9</th><td>jtl0dijy2j</td><td>FR</td></tr>\n",
       "\t<tr><th scope=row>10</th><td>jtl0dijy2j</td><td>IT</td></tr>\n",
       "\t<tr><th scope=row>11</th><td>xx0ulgorjt</td><td>NDF</td></tr>\n",
       "\t<tr><th scope=row>12</th><td>xx0ulgorjt</td><td>US</td></tr>\n",
       "\t<tr><th scope=row>13</th><td>xx0ulgorjt</td><td>other</td></tr>\n",
       "\t<tr><th scope=row>14</th><td>xx0ulgorjt</td><td>FR</td></tr>\n",
       "\t<tr><th scope=row>15</th><td>xx0ulgorjt</td><td>IT</td></tr>\n",
       "\t<tr><th scope=row>16</th><td>6c6puo6ix0</td><td>NDF</td></tr>\n",
       "\t<tr><th scope=row>17</th><td>6c6puo6ix0</td><td>US</td></tr>\n",
       "\t<tr><th scope=row>18</th><td>6c6puo6ix0</td><td>other</td></tr>\n",
       "\t<tr><th scope=row>19</th><td>6c6puo6ix0</td><td>FR</td></tr>\n",
       "\t<tr><th scope=row>20</th><td>6c6puo6ix0</td><td>IT</td></tr>\n",
       "</tbody>\n",
       "</table>\n"
      ],
      "text/latex": [
       "\\begin{tabular}{r|ll}\n",
       "  & id & country\\\\\n",
       "\\hline\n",
       "\t1 & 5uwns89zht & NDF\\\\\n",
       "\t2 & 5uwns89zht & US\\\\\n",
       "\t3 & 5uwns89zht & other\\\\\n",
       "\t4 & 5uwns89zht & ES\\\\\n",
       "\t5 & 5uwns89zht & FR\\\\\n",
       "\t6 & jtl0dijy2j & NDF\\\\\n",
       "\t7 & jtl0dijy2j & US\\\\\n",
       "\t8 & jtl0dijy2j & other\\\\\n",
       "\t9 & jtl0dijy2j & FR\\\\\n",
       "\t10 & jtl0dijy2j & IT\\\\\n",
       "\t11 & xx0ulgorjt & NDF\\\\\n",
       "\t12 & xx0ulgorjt & US\\\\\n",
       "\t13 & xx0ulgorjt & other\\\\\n",
       "\t14 & xx0ulgorjt & FR\\\\\n",
       "\t15 & xx0ulgorjt & IT\\\\\n",
       "\t16 & 6c6puo6ix0 & NDF\\\\\n",
       "\t17 & 6c6puo6ix0 & US\\\\\n",
       "\t18 & 6c6puo6ix0 & other\\\\\n",
       "\t19 & 6c6puo6ix0 & FR\\\\\n",
       "\t20 & 6c6puo6ix0 & IT\\\\\n",
       "\\end{tabular}\n"
      ],
      "text/plain": [
       "           id country\n",
       "1  5uwns89zht     NDF\n",
       "2  5uwns89zht      US\n",
       "3  5uwns89zht   other\n",
       "4  5uwns89zht      ES\n",
       "5  5uwns89zht      FR\n",
       "6  jtl0dijy2j     NDF\n",
       "7  jtl0dijy2j      US\n",
       "8  jtl0dijy2j   other\n",
       "9  jtl0dijy2j      FR\n",
       "10 jtl0dijy2j      IT\n",
       "11 xx0ulgorjt     NDF\n",
       "12 xx0ulgorjt      US\n",
       "13 xx0ulgorjt   other\n",
       "14 xx0ulgorjt      FR\n",
       "15 xx0ulgorjt      IT\n",
       "16 6c6puo6ix0     NDF\n",
       "17 6c6puo6ix0      US\n",
       "18 6c6puo6ix0   other\n",
       "19 6c6puo6ix0      FR\n",
       "20 6c6puo6ix0      IT"
      ]
     },
     "execution_count": 5,
     "metadata": {},
     "output_type": "execute_result"
    }
   ],
   "source": [
    "# Generate predictions on competition test set. \n",
    "# compare prediction to results\n",
    "source(\"Generate_submission.R\")\n",
    "final <- submission(xgb, sparse_ts, df_test$id, \"temp\")\n",
    "\n",
    "head(final$df,20)\n",
    "head(final$file,20)"
   ]
  }
 ],
 "metadata": {
  "kernelspec": {
   "display_name": "R",
   "language": "R",
   "name": "ir"
  },
  "language_info": {
   "codemirror_mode": "r",
   "file_extension": ".r",
   "mimetype": "text/x-r-source",
   "name": "R",
   "pygments_lexer": "r",
   "version": "3.2.4"
  }
 },
 "nbformat": 4,
 "nbformat_minor": 0
}
